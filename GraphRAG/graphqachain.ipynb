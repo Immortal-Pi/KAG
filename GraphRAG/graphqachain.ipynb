{
 "cells": [
  {
   "cell_type": "code",
   "execution_count": 1,
   "metadata": {},
   "outputs": [
    {
     "ename": "ImportError",
     "evalue": "DLL load failed while importing _multiarray_umath: The specified module could not be found.",
     "output_type": "error",
     "traceback": [
      "\u001b[1;31m---------------------------------------------------------------------------\u001b[0m",
      "\u001b[1;31mImportError\u001b[0m                               Traceback (most recent call last)",
      "\u001b[1;31mImportError\u001b[0m: DLL load failed while importing _multiarray_umath: The specified module could not be found."
     ]
    },
    {
     "ename": "ImportError",
     "evalue": "DLL load failed while importing _multiarray_umath: The specified module could not be found.",
     "output_type": "error",
     "traceback": [
      "\u001b[1;31m---------------------------------------------------------------------------\u001b[0m",
      "\u001b[1;31mImportError\u001b[0m                               Traceback (most recent call last)",
      "\u001b[1;31mImportError\u001b[0m: DLL load failed while importing _multiarray_umath: The specified module could not be found."
     ]
    }
   ],
   "source": [
    "import os \n",
    "import json \n",
    "from pathlib import Path\n",
    "from langchain_experimental.graph_transformers import LLMGraphTransformer\n",
    "import networkx as nx \n",
    "from langchain_community.chains.graph_qa.base import GraphQAChain\n",
    "from langchain_community.graphs.networkx_graph import NetworkxEntityGraph\n",
    "import pandas as pd \n",
    "import dotenv\n",
    "from langchain_openai import AzureChatOpenAI\n",
    "import pandas as pd "
   ]
  },
  {
   "cell_type": "code",
   "execution_count": 2,
   "metadata": {},
   "outputs": [],
   "source": [
    "dotenv.load_dotenv()\n",
    "from openai import AzureOpenAI\n",
    "llm=AzureOpenAI(\n",
    "        api_key=os.getenv('AZURE_OPENAI_API_KEY_2'),\n",
    "        azure_endpoint=os.getenv('AZURE_OpenAI_ENDPOINT_2'),\n",
    "        api_version=os.getenv('AZURE_OpenAI_API_VERSION_2')\n",
    ")\n",
    "# llm=AzureChatOpenAI(\n",
    "#     azure_deployment=os.getenv('AZURE_OPENAI_DEPLOYMENT_MODEL'),\n",
    "#     api_version=os.getenv('AZURE_OpenAI_API_VERSION'),\n",
    "#     temperature=0,\n",
    "#     api_key=os.getenv('GRAPHRAG_API_KEY')\n",
    "# )"
   ]
  },
  {
   "cell_type": "code",
   "execution_count": 42,
   "metadata": {},
   "outputs": [],
   "source": [
    "with open(Path('Nodes_and_edges.json'),'r') as f:\n",
    "    data=json.load(f)\n"
   ]
  },
  {
   "cell_type": "code",
   "execution_count": 43,
   "metadata": {},
   "outputs": [
    {
     "data": {
      "text/plain": [
       "(1822, 3)"
      ]
     },
     "execution_count": 43,
     "metadata": {},
     "output_type": "execute_result"
    }
   ],
   "source": [
    "df=pd.DataFrame(data)\n",
    "df.shape"
   ]
  },
  {
   "cell_type": "code",
   "execution_count": 44,
   "metadata": {},
   "outputs": [],
   "source": [
    "# create a graph \n",
    "graph=NetworkxEntityGraph()\n",
    "\n",
    "# add nodes to the graph\n",
    "for node in data:\n",
    "    try:\n",
    "        graph.add_node(node['node_1'])\n",
    "        graph.add_node(node['node_2'])\n",
    "    except Exception as e:\n",
    "        print(f'node not found {e}')\n",
    "\n",
    "# add edges to the graph \n",
    "for edge in data:\n",
    "    try:\n",
    "        graph._graph.add_edge(\n",
    "            edge['node_1'],\n",
    "            edge['node_2'],\n",
    "            relation=edge['edge']\n",
    "        ) \n",
    "    except Exception as e:\n",
    "        print(e)\n"
   ]
  },
  {
   "cell_type": "code",
   "execution_count": 6,
   "metadata": {},
   "outputs": [],
   "source": [
    "# lets chat with the graph \n",
    "llm = AzureChatOpenAI(\n",
    "    openai_api_version=os.getenv(\"AZURE_OpenAI_API_VERSION\"),\n",
    "    azure_deployment=os.getenv('AZURE_OPENAI_DEPLOYMENT_MODEL'),\n",
    "    model_name=os.getenv('AZURE_OPENAI_DEPLOYMENT_MODEL'),\n",
    "    api_key=os.getenv('GRAPHRAG_API_KEY'),\n",
    "   )\n",
    "\n",
    "chain=GraphQAChain.from_llm(\n",
    "    llm=llm,\n",
    "    graph=graph,\n",
    ")"
   ]
  },
  {
   "cell_type": "code",
   "execution_count": 7,
   "metadata": {},
   "outputs": [
    {
     "name": "stdout",
     "output_type": "stream",
     "text": [
      "Elon Musk founded SpaceX to revolutionize space exploration.\n"
     ]
    }
   ],
   "source": [
    "question=\"what is Elon Musk's relation with Spacex\" \n",
    "print(chain.invoke(question)['result'])"
   ]
  },
  {
   "cell_type": "code",
   "execution_count": 8,
   "metadata": {},
   "outputs": [
    {
     "name": "stdout",
     "output_type": "stream",
     "text": [
      "OpenAI received funding from Microsoft along with other investors for YC Group, where Sam Altman became president. Additionally, Microsoft invested 1 billion into an AI lab aimed at mimicking the brain, as reported by The New York Times.\n"
     ]
    }
   ],
   "source": [
    "question=\"how is OpenAI related to Microsoft\" \n",
    "print(chain.invoke(question)['result'])"
   ]
  },
  {
   "cell_type": "code",
   "execution_count": 9,
   "metadata": {},
   "outputs": [
    {
     "name": "stdout",
     "output_type": "stream",
     "text": [
      "1. Apple Lisa\n",
      "2. Macintosh\n",
      "3. Aldus Pagemaker\n",
      "4. Apple LaserWriter\n",
      "5. desktop publishing industry\n"
     ]
    }
   ],
   "source": [
    "question=\"give me 5 things related to Steve Jobs and not a person or people\" \n",
    "print(chain.invoke(question)['result'])"
   ]
  },
  {
   "cell_type": "code",
   "execution_count": 10,
   "metadata": {},
   "outputs": [
    {
     "name": "stdout",
     "output_type": "stream",
     "text": [
      "Microsoft was a business rival of Apple.\n"
     ]
    }
   ],
   "source": [
    "question=\"how is apple related to microsoft?\" \n",
    "print(chain.invoke(question)['result'])"
   ]
  },
  {
   "cell_type": "code",
   "execution_count": 11,
   "metadata": {},
   "outputs": [
    {
     "name": "stdout",
     "output_type": "stream",
     "text": [
      "Mark Zuckerberg was the keynote speaker at the 2014 Mobile World Congress, where he discussed the importance of mobile technology for Facebook.\n"
     ]
    }
   ],
   "source": [
    "question=\"what did Mark Zuckerberg and mobile world congress related? \" \n",
    "print(chain.invoke(question)['result'])"
   ]
  },
  {
   "cell_type": "code",
   "execution_count": 12,
   "metadata": {},
   "outputs": [
    {
     "name": "stdout",
     "output_type": "stream",
     "text": [
      "Sundar Pichai is the CEO of Google, which is a subsidiary of Alphabet Inc. Microsoft, where Satya Nadella is the CEO, is a competitor of Google. This indirect relationship places Sundar Pichai and Microsoft in a competitive business environment within the tech industry.\n"
     ]
    }
   ],
   "source": [
    "question=\"how is Sundar Pichai & Microsoft related indirectly?\" \n",
    "print(chain.invoke(question)['result'])"
   ]
  },
  {
   "cell_type": "code",
   "execution_count": 13,
   "metadata": {},
   "outputs": [
    {
     "name": "stdout",
     "output_type": "stream",
     "text": [
      "Larry Page is not directly related to Microsoft. However, he is indirectly related through competitive business interactions. For instance, Larry Page accused Microsoft of making its Outlook program interoperable with Google without allowing backward compatibility, which he referred to as milking off. Additionally, Larry Page accused Apple, among other companies, of banding together in anticompetitive patent attacks on Android, a competition that involves major tech companies including Microsoft.\n"
     ]
    }
   ],
   "source": [
    "question=\"how is Larry Page related to Microsoft directly or indirectly?\" \n",
    "print(chain.invoke(question)['result'])"
   ]
  },
  {
   "cell_type": "code",
   "execution_count": 14,
   "metadata": {},
   "outputs": [
    {
     "name": "stdout",
     "output_type": "stream",
     "text": [
      "Microsoft is indirectly related to Larry Page through competition and legal disputes. Microsoft was a business rival of Google, where Larry Page is a co-founder and former CEO. Additionally, Larry Page accused Microsoft of making its Outlook program interoperable with Google without allowing backward compatibility, referring to it as milking off.\n"
     ]
    }
   ],
   "source": [
    "question=\"how is Microsoft related to Larry Page directly or indirectly?\" \n",
    "print(chain.invoke(question)['result'])"
   ]
  },
  {
   "cell_type": "code",
   "execution_count": 15,
   "metadata": {},
   "outputs": [
    {
     "name": "stdout",
     "output_type": "stream",
     "text": [
      "Elon Musk and Mark Zuckerberg are not directly related to each other. However, they are indirectly related through their involvement in the tech industry. Both are prominent figures in the tech world, with Musk being involved in companies like SpaceX, Tesla, and Neuralink, and Zuckerberg known for his role in Facebook (now Meta Platforms). While they have had public disagreements and different approaches to technology and social media, they share a connection through the broader tech and business ecosystems.\n"
     ]
    }
   ],
   "source": [
    "question=\"how are Elon Musk & Mark Zuckerburg related to each other directly or indirectly?\" \n",
    "print(chain.invoke(question)['result'])"
   ]
  },
  {
   "cell_type": "code",
   "execution_count": 16,
   "metadata": {},
   "outputs": [
    {
     "name": "stdout",
     "output_type": "stream",
     "text": [
      "Mark Zuckerberg and Elon Musk are both prominent technology entrepreneurs and visionaries who have made significant impacts in their respective fields. While there is no direct business relationship or partnership between them, they share similarities in terms of their influence on the technology and social media landscapes. Both have been recognized as influential figures in shaping the digital age and have been listed among the top business visionaries creating value for the world. However, their paths in technology and innovation have largely been parallel and separate, with Zuckerberg focusing on social media through Facebook and its parent company Meta Platforms, and Musk concentrating on space exploration, electric vehicles, and other technology-driven ventures.\n"
     ]
    }
   ],
   "source": [
    "question=\"give me a summary on Mark Zuckerberg's relation direct or indirect to Elon Musk\" \n",
    "print(chain.invoke(question)['result'])"
   ]
  },
  {
   "cell_type": "code",
   "execution_count": 17,
   "metadata": {},
   "outputs": [
    {
     "name": "stdout",
     "output_type": "stream",
     "text": [
      "Bill Gates is indirectly related to both Jeff Bezos and Larry Ellison as they are all prominent figures in the tech industry and have been ranked among the wealthiest individuals in the world. Gates and Bezos are connected through their rankings on various billionaire indices, such as Forbes and Bloomberg. Gates was the first centibillionaire, a status later achieved by Bezos, indicating their significant financial success and impact in the tech and business sectors.\n",
      "\n",
      "Regarding Larry Ellison, he and Gates have had professional intersections, notably in the tech industry where both their companies, Microsoft and Oracle, have been major players. Additionally, Ellison's position in the wealth rankings often places him near Gates, showcasing their financial prowess in the global economic landscape.\n",
      "\n",
      "Overall, while there may not be direct personal relationships detailed between Gates and the other two, their professional and financial standings connect them within the broader context of global business and technology leadership.\n"
     ]
    }
   ],
   "source": [
    "question=\"give me a summary on Bill Gate's relation direct or indirect to Jeff Bezos or Larry Ellison\" \n",
    "print(chain.invoke(question)['result'])"
   ]
  },
  {
   "cell_type": "code",
   "execution_count": 18,
   "metadata": {},
   "outputs": [
    {
     "name": "stdout",
     "output_type": "stream",
     "text": [
      "Sam Altman and Elon Musk have several connections, both direct and indirect. Directly, Sam Altman and Elon Musk have worked together at OpenAI, a nonprofit AI research company. Altman was one of the co-founders and Musk backed the nonprofit financially. Additionally, there have been legal interactions between them, as Elon Musk sued OpenAI and Sam Altman, alleging prioritization of profit over humanity, a claim that OpenAI denied. Indirectly, they both have significant interests in technology and AI advancements, shaping their respective fields with innovative contributions and leadership.\n"
     ]
    }
   ],
   "source": [
    "question=\"give me a summary on Sam Altman relation direct or indirect to Elon Musk\" \n",
    "print(chain.invoke(question)['result'])"
   ]
  },
  {
   "cell_type": "code",
   "execution_count": 19,
   "metadata": {},
   "outputs": [
    {
     "name": "stdout",
     "output_type": "stream",
     "text": [
      "1. Michael D. Griffin – Connected to Elon Musk as he traveled with Musk to Moscow to buy ICBMs and also a notable figure in aerospace, which is a sector Jeff Bezos is involved in through Blue Origin.\n",
      "2. Sam Altman – Worked with Elon Musk at OpenAI, and Jeff Bezos has also been involved in AI through Amazon's AI services.\n",
      "3. Richard Branson – Both Elon Musk and Jeff Bezos are involved in space exploration and have been compared to each other; Branson is another key player in this field.\n",
      "4. Donald Trump – Met with Elon Musk during a gathering wearing an Occupy Mars shirt and has also been involved in discussions regarding Amazon's impact on the U.S. economy, which connects to Jeff Bezos.\n"
     ]
    }
   ],
   "source": [
    "question=\"who are some top personalities connected directly or indirectly to both Elon Musk and Jeff Bezos\" \n",
    "print(chain.invoke(question)['result'])"
   ]
  },
  {
   "cell_type": "code",
   "execution_count": 29,
   "metadata": {},
   "outputs": [
    {
     "name": "stdout",
     "output_type": "stream",
     "text": [
      "Some entities connected to Stanford University include:\n",
      "\n",
      "1. Google - Co-founded by Larry Page and Sergey Brin who were Ph.D. students at Stanford University. They developed their search engine algorithm, PageRank, as part of their research project.\n",
      "\n",
      "2. Hewlett-Packard (HP) - Co-founded by Bill Hewlett and Dave Packard who were electrical engineering students at Stanford University. Their first product, an audio oscillator, was developed in a garage in Palo Alto with support from their professor at Stanford.\n",
      "\n",
      "3. Sun Microsystems - Co-founded by Vinod Khosla, Andy Bechtolsheim, and Scott McNealy who were all Stanford University alumni. The name \"SUN\" originally stood for Stanford University Network.\n",
      "\n",
      "4. Instagram - Co-founded by Kevin Systrom who graduated from Stanford University with a degree in management science and engineering. He developed the idea for Instagram while attending Stanford.\n",
      "\n",
      "5. Snapchat - Co-founded by Evan Spiegel and Bobby Murphy who met while they were students at Stanford University.\n",
      "\n",
      "Stanford University has a history of entrepreneurship and innovation, providing an environment that fosters the development of new ideas and businesses.\n"
     ]
    }
   ],
   "source": [
    "question=\"what are some entities connected to Stanford University? and why?\" \n",
    "print(chain.invoke(question)['result'])"
   ]
  },
  {
   "cell_type": "code",
   "execution_count": 32,
   "metadata": {},
   "outputs": [
    {
     "name": "stdout",
     "output_type": "stream",
     "text": [
      "Some people connected to Time magazine include Henry Luce, the co-founder, and managing editor, and Nancy Gibbs, former managing editor. Other notable figures include journalists and editors who have contributed to the magazine over the years.\n"
     ]
    }
   ],
   "source": [
    "question=\"who are some people connected to times magazine?\" \n",
    "print(chain.invoke(question)['result'])"
   ]
  },
  {
   "cell_type": "code",
   "execution_count": 34,
   "metadata": {},
   "outputs": [
    {
     "name": "stdout",
     "output_type": "stream",
     "text": [
      "1. Herbert Hoover - He was a student at Stanford University and graduated in 1895.\n",
      "2. Elon Musk - He attended Stanford University for two days before dropping out to start Zip2.\n",
      "3. John Steinbeck - He attended Stanford University intermittently between 1919 and 1925 but never graduated.\n",
      "4. Sergey Brin - He is a co-founder of Google and received his Master's degree in computer science from Stanford University.\n",
      "5. Larry Page - He is a co-founder of Google and received his Master's degree in computer science from Stanford University.\n",
      "6. Condoleezza Rice - She was a political science professor at Stanford University and later became the provost.\n",
      "\n",
      "These individuals are directly or indirectly related to Stanford University either as students, alumni, or faculty members.\n"
     ]
    }
   ],
   "source": [
    "question=\"who are directly or indirectly related to stanford university? and why?\" \n",
    "print(chain.invoke(question)['result'])"
   ]
  },
  {
   "cell_type": "code",
   "execution_count": 41,
   "metadata": {},
   "outputs": [
    {
     "name": "stdout",
     "output_type": "stream",
     "text": [
      "I'm sorry, but I don't know the specific person you are referring to who received their master's degree from Stanford University based on the information provided.\n"
     ]
    }
   ],
   "source": [
    "question=\"who received their masters degree from stanford university\" \n",
    "print(chain.invoke(question)['result'])"
   ]
  },
  {
   "cell_type": "code",
   "execution_count": null,
   "metadata": {},
   "outputs": [],
   "source": []
  }
 ],
 "metadata": {
  "kernelspec": {
   "display_name": "genai",
   "language": "python",
   "name": "python3"
  },
  "language_info": {
   "codemirror_mode": {
    "name": "ipython",
    "version": 3
   },
   "file_extension": ".py",
   "mimetype": "text/x-python",
   "name": "python",
   "nbconvert_exporter": "python",
   "pygments_lexer": "ipython3",
   "version": "3.10.15"
  }
 },
 "nbformat": 4,
 "nbformat_minor": 2
}

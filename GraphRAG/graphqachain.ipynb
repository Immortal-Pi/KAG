{
 "cells": [
  {
   "cell_type": "code",
   "execution_count": 3,
   "metadata": {},
   "outputs": [],
   "source": [
    "import os \n",
    "import json \n",
    "from pathlib import Path\n",
    "from langchain_experimental.graph_transformers import LLMGraphTransformer\n",
    "import networkx as nx \n",
    "from langchain_community.chains.graph_qa.base import GraphQAChain\n",
    "from langchain_community.graphs.networkx_graph import NetworkxEntityGraph\n",
    "import pandas as pd \n",
    "import dotenv\n",
    "from langchain_openai import AzureChatOpenAI\n",
    "import pandas as pd "
   ]
  },
  {
   "cell_type": "code",
   "execution_count": 4,
   "metadata": {},
   "outputs": [],
   "source": [
    "dotenv.load_dotenv()\n",
    "from openai import AzureOpenAI\n",
    "llm=AzureOpenAI(\n",
    "        api_key=os.getenv('AZURE_OPENAI_API_KEY_2'),\n",
    "        azure_endpoint=os.getenv('AZURE_OpenAI_ENDPOINT_2'),\n",
    "        api_version=os.getenv('AZURE_OpenAI_API_VERSION_2')\n",
    ")\n",
    "# llm=AzureChatOpenAI(\n",
    "#     azure_deployment=os.getenv('AZURE_OPENAI_DEPLOYMENT_MODEL'),\n",
    "#     api_version=os.getenv('AZURE_OpenAI_API_VERSION'),\n",
    "#     temperature=0,\n",
    "#     api_key=os.getenv('GRAPHRAG_API_KEY')\n",
    "# )"
   ]
  },
  {
   "cell_type": "code",
   "execution_count": 5,
   "metadata": {},
   "outputs": [],
   "source": [
    "with open(Path('Nodes_and_edges.json'),'r') as f:\n",
    "    data=json.load(f)\n"
   ]
  },
  {
   "cell_type": "code",
   "execution_count": 6,
   "metadata": {},
   "outputs": [
    {
     "data": {
      "text/plain": [
       "(2137, 3)"
      ]
     },
     "execution_count": 6,
     "metadata": {},
     "output_type": "execute_result"
    }
   ],
   "source": [
    "df=pd.DataFrame(data)\n",
    "df.shape"
   ]
  },
  {
   "cell_type": "code",
   "execution_count": 7,
   "metadata": {},
   "outputs": [],
   "source": [
    "# create a graph \n",
    "graph=NetworkxEntityGraph()\n",
    "\n",
    "# add nodes to the graph\n",
    "for node in data:\n",
    "    try:\n",
    "        graph.add_node(node['node_1'])\n",
    "        graph.add_node(node['node_2'])\n",
    "    except Exception as e:\n",
    "        print(f'node not found {e}')\n",
    "\n",
    "# add edges to the graph \n",
    "for edge in data:\n",
    "    try:\n",
    "        graph._graph.add_edge(\n",
    "            edge['node_1'],\n",
    "            edge['node_2'],\n",
    "            relation=edge['edge']\n",
    "        ) \n",
    "    except Exception as e:\n",
    "        print(e)\n"
   ]
  },
  {
   "cell_type": "code",
   "execution_count": null,
   "metadata": {},
   "outputs": [],
   "source": []
  },
  {
   "cell_type": "code",
   "execution_count": null,
   "metadata": {},
   "outputs": [],
   "source": [
    "# lets chat with the graph \n",
    "llm = AzureChatOpenAI(\n",
    "    openai_api_version=os.getenv(\"AZURE_OpenAI_API_VERSION\"),\n",
    "    azure_deployment=os.getenv('AZURE_OPENAI_DEPLOYMENT_MODEL'),\n",
    "    model_name=os.getenv('AZURE_OPENAI_DEPLOYMENT_MODEL'),\n",
    "    api_key=os.getenv('GRAPHRAG_API_KEY'),\n",
    "   )\n",
    "\n",
    "chain=GraphQAChain.from_llm(\n",
    "    llm=llm,\n",
    "    graph=graph,\n",
    "    \n",
    "    \n",
    ")"
   ]
  },
  {
   "cell_type": "code",
   "execution_count": 9,
   "metadata": {},
   "outputs": [
    {
     "name": "stdout",
     "output_type": "stream",
     "text": [
      "{'query': \"what is Elon Musk's relation with Spacex\", 'result': 'Elon Musk is the owner of SpaceX and decides its operational strategies.'}\n"
     ]
    }
   ],
   "source": [
    "question=\"what is Elon Musk's relation with Spacex\" \n",
    "print(chain.invoke(question))"
   ]
  },
  {
   "cell_type": "code",
   "execution_count": 10,
   "metadata": {},
   "outputs": [
    {
     "name": "stdout",
     "output_type": "stream",
     "text": [
      "OpenAI threatened its board with mass employee resignations to join Microsoft unless their demands were met.\n"
     ]
    }
   ],
   "source": [
    "question=\"how is OpenAI related to Microsoft\" \n",
    "print(chain.invoke(question)['result'])"
   ]
  },
  {
   "cell_type": "code",
   "execution_count": 11,
   "metadata": {},
   "outputs": [
    {
     "name": "stdout",
     "output_type": "stream",
     "text": [
      "1. NeXT - The company acquired by Apple that led to Steve Jobs returning as CEO.\n",
      "2. Macintosh - The first mass-produced computer with a GUI, pioneered by Apple under Steve Jobs' leadership.\n",
      "3. GUI - Graphical User Interface, a key development in computers that was popularized by the Macintosh.\n",
      "4. Desktop publishing industry - Launched by the introduction of Macintosh along with Apple LaserWriter and software like Aldus PageMaker.\n",
      "5. Apple - The company that Steve Jobs co-founded and returned to as CEO, which has been pivotal in the evolution of the computer industry.\n"
     ]
    }
   ],
   "source": [
    "question=\"give me 5 things related to Steve Jobs and not a person or people\" \n",
    "print(chain.invoke(question)['result'])"
   ]
  },
  {
   "cell_type": "code",
   "execution_count": 12,
   "metadata": {},
   "outputs": [
    {
     "name": "stdout",
     "output_type": "stream",
     "text": [
      "Under Satya Nadella's leadership, Microsoft collaborates with Apple, despite being competitors.\n"
     ]
    }
   ],
   "source": [
    "question=\"how is apple related to microsoft?\" \n",
    "print(chain.invoke(question)['result'])"
   ]
  },
  {
   "cell_type": "code",
   "execution_count": 13,
   "metadata": {},
   "outputs": [
    {
     "name": "stdout",
     "output_type": "stream",
     "text": [
      "Mark Zuckerberg was the keynote speaker at MWC 2014, discussing Facebook's mobile technology strategy. He emphasized the importance of mobile technology for Facebook's future at MWC 2014.\n"
     ]
    }
   ],
   "source": [
    "question=\"what did Mark Zuckerberg and mobile world congress related? \" \n",
    "print(chain.invoke(question)['result'])"
   ]
  },
  {
   "cell_type": "code",
   "execution_count": 14,
   "metadata": {},
   "outputs": [
    {
     "name": "stdout",
     "output_type": "stream",
     "text": [
      "Sundar Pichai was considered as a front runner for the CEO position at Microsoft.\n"
     ]
    }
   ],
   "source": [
    "question=\"how is Sundar Pichai & Microsoft related indirectly?\" \n",
    "print(chain.invoke(question)['result'])"
   ]
  },
  {
   "cell_type": "code",
   "execution_count": 15,
   "metadata": {},
   "outputs": [
    {
     "name": "stdout",
     "output_type": "stream",
     "text": [
      "Larry Page is not directly related to Microsoft. However, there is an indirect connection through the competitive and influential landscape of the technology industry, where both Google and Microsoft are major players. Both companies have developed significant technologies and have had a profound impact on the internet, software, and hardware industries. Additionally, both companies have been involved in partnerships and collaborations that shape the tech industry, although not directly with each other in the context provided.\n"
     ]
    }
   ],
   "source": [
    "question=\"how is Larry Page related to Microsoft directly or indirectly?\" \n",
    "print(chain.invoke(question)['result'])"
   ]
  },
  {
   "cell_type": "code",
   "execution_count": 16,
   "metadata": {},
   "outputs": [
    {
     "name": "stdout",
     "output_type": "stream",
     "text": [
      "Microsoft is not directly related to Larry Page. However, Microsoft and Larry Page's company, Google, are indirect competitors in various technology and internet service markets. Both companies develop operating systems, cloud computing solutions, and other software and hardware products.\n"
     ]
    }
   ],
   "source": [
    "question=\"how is Microsoft related to Larry Page directly or indirectly?\" \n",
    "print(chain.invoke(question)['result'])"
   ]
  },
  {
   "cell_type": "code",
   "execution_count": 17,
   "metadata": {},
   "outputs": [
    {
     "name": "stdout",
     "output_type": "stream",
     "text": [
      "Based on the provided information, there is no direct or indirect relationship mentioned between Elon Musk and Mark Zuckerberg.\n"
     ]
    }
   ],
   "source": [
    "question=\"how are Elon Musk & Mark Zuckerburg related to each other directly or indirectly?\" \n",
    "print(chain.invoke(question)['result'])"
   ]
  },
  {
   "cell_type": "code",
   "execution_count": null,
   "metadata": {},
   "outputs": [],
   "source": [
    "question=\"give me a summary on Mark Zuckerberg's relation direct or indirect to Elon Musk\" \n",
    "print(chain.invoke(question)['result'])"
   ]
  },
  {
   "cell_type": "code",
   "execution_count": null,
   "metadata": {},
   "outputs": [
    {
     "name": "stdout",
     "output_type": "stream",
     "text": [
      "Bill Gates is directly related to both Jeff Bezos and Larry Ellison in the context of wealth rankings and the tech industry. Gates has been listed in various wealth rankings alongside both Bezos and Ellison, often being mentioned as one of the wealthiest individuals in the world, similar to Bezos and Ellison. Additionally, all three have been influential figures in the technology and business sectors, with Gates co-founding Microsoft, Bezos founding Amazon, and Ellison co-founding Oracle. Their careers and companies have often been compared and contrasted in discussions about innovation, entrepreneurship, and impact on the global tech landscape.\n"
     ]
    }
   ],
   "source": [
    "question=\"give me a summary on Bill Gate's relation direct or indirect to Jeff Bezos or Larry Ellison\" \n",
    "print(chain.invoke(question)['result'])"
   ]
  },
  {
   "cell_type": "code",
   "execution_count": null,
   "metadata": {},
   "outputs": [
    {
     "name": "stdout",
     "output_type": "stream",
     "text": [
      "Sam Altman and Elon Musk have a direct relationship through their joint venture in co-founding OpenAI, a nonprofit AI research company. This collaboration highlights their mutual interest in advancing artificial intelligence technology and its applications. Additionally, both have been involved in various discussions and initiatives concerning AI, further solidifying their professional connection in this field.\n"
     ]
    }
   ],
   "source": [
    "question=\"give me a summary on Sam Altman relation direct or indirect to Elon Musk\" \n",
    "print(chain.invoke(question)['result'])"
   ]
  },
  {
   "cell_type": "code",
   "execution_count": null,
   "metadata": {},
   "outputs": [
    {
     "name": "stdout",
     "output_type": "stream",
     "text": [
      "Some top personalities connected directly or indirectly to both Elon Musk and Jeff Bezos include:\n",
      "\n",
      "1. Richard Branson - Both Elon Musk and Jeff Bezos are compared due to their mutual interest in spaceflight as billionaires, and Richard Branson is another billionaire with a focus on spaceflight.\n",
      "\n",
      "2. Donald Trump - Elon Musk engaged with Donald Trump among other political leaders at a gathering discussing SpaceX's Mars program. Jeff Bezos's personal wealth fell by $10.7 billion due to negative comments from President Trump.\n",
      "\n",
      "3. Narendra Modi - Elon Musk has expressed views and had a meeting about India with its prime minister Narendra Modi. Jeff Bezos also expressed interest in expanding Amazon's operations into India.\n",
      "\n",
      "4. Peter Thiel - Peter Thiel resigned due to Elon Musk's preference for Microsoft software over Unix-based software. Jeff Bezos was one of the first shareholders in Google, where Peter Thiel also invested early on.\n",
      "\n",
      "These individuals are connected through various business interactions and shared interests, particularly in the technology and space industries.\n"
     ]
    }
   ],
   "source": [
    "question=\"who are some top personalities connected directly or indirectly to both Elon Musk and Jeff Bezos\" \n",
    "print(chain.invoke(question)['result'])"
   ]
  },
  {
   "cell_type": "code",
   "execution_count": null,
   "metadata": {},
   "outputs": [
    {
     "name": "stdout",
     "output_type": "stream",
     "text": [
      "Some entities connected to Stanford University are Altman and Page. Altman attended Stanford University but dropped out after two years, and the university offered a Computer Science PhD program in which Page enrolled.\n"
     ]
    }
   ],
   "source": [
    "question=\"what are some entities connected to Stanford University? and why?\" \n",
    "print(chain.invoke(question)['result'])"
   ]
  },
  {
   "cell_type": "code",
   "execution_count": null,
   "metadata": {},
   "outputs": [
    {
     "name": "stdout",
     "output_type": "stream",
     "text": [
      "Some people connected to Time magazine include its founders, Henry Luce and Briton Hadden, as well as various editors and journalists who have worked for the publication over the years. Additionally, individuals who have been featured on the cover of Time magazine, such as influential politicians, celebrities, and public figures, are also connected to the magazine.\n"
     ]
    }
   ],
   "source": [
    "question=\"who are some people connected to times magazine?\" \n",
    "print(chain.invoke(question)['result'])"
   ]
  },
  {
   "cell_type": "code",
   "execution_count": null,
   "metadata": {},
   "outputs": [
    {
     "name": "stdout",
     "output_type": "stream",
     "text": [
      "Stanford University is related to both Altman and Page. Altman attended Stanford University but dropped out after two years, while Page enrolled in Stanford University's Computer Science PhD program.\n"
     ]
    }
   ],
   "source": [
    "question=\"who are directly or indirectly related to stanford university? and why?\" \n",
    "print(chain.invoke(question)['result'])"
   ]
  },
  {
   "cell_type": "code",
   "execution_count": null,
   "metadata": {},
   "outputs": [
    {
     "name": "stdout",
     "output_type": "stream",
     "text": [
      "Altman and Page are connected to Stanford University. Altman attended Stanford University but dropped out after two years, while Page enrolled in a Computer Science PhD program at Stanford University.\n"
     ]
    }
   ],
   "source": [
    "question=\"who are connected to stanford university and why?\" \n",
    "print(chain.invoke(question)['result'])"
   ]
  },
  {
   "cell_type": "code",
   "execution_count": null,
   "metadata": {},
   "outputs": [],
   "source": []
  }
 ],
 "metadata": {
  "kernelspec": {
   "display_name": "genai",
   "language": "python",
   "name": "python3"
  },
  "language_info": {
   "codemirror_mode": {
    "name": "ipython",
    "version": 3
   },
   "file_extension": ".py",
   "mimetype": "text/x-python",
   "name": "python",
   "nbconvert_exporter": "python",
   "pygments_lexer": "ipython3",
   "version": "3.10.15"
  }
 },
 "nbformat": 4,
 "nbformat_minor": 2
}

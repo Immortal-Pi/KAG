{
 "cells": [
  {
   "cell_type": "markdown",
   "metadata": {},
   "source": [
    "# chainging with langgraph"
   ]
  },
  {
   "cell_type": "code",
   "execution_count": 10,
   "metadata": {},
   "outputs": [
    {
     "data": {
      "text/plain": [
       "'Hello! How can I assist you today? 😊'"
      ]
     },
     "execution_count": 10,
     "metadata": {},
     "output_type": "execute_result"
    }
   ],
   "source": [
    "import os \n",
    "from langchain_openai import AzureChatOpenAI\n",
    "import dotenv\n",
    "\n",
    "dotenv.load_dotenv()\n",
    "\n",
    "\n",
    "llm = AzureChatOpenAI(\n",
    "    openai_api_version=os.getenv(\"AZURE_OpenAI_API_VERSION_3\"),\n",
    "    azure_deployment=os.getenv('AZURE_OPENAI_DEPLOYMENT_MODEL_3'),\n",
    "    model_name=os.getenv('AZURE_OPENAI_DEPLOYMENT_MODEL_3'),\n",
    "    api_key=os.getenv('OPENAI_API_KEY_3'),\n",
    "    azure_endpoint=os.getenv('AZURE_OpenAI_ENDPOINT_3')\n",
    "   )\n",
    "\n",
    "llm.invoke('hello').content"
   ]
  },
  {
   "cell_type": "code",
   "execution_count": 25,
   "metadata": {},
   "outputs": [],
   "source": [
    "from typing import TypedDict\n",
    "\n",
    "# Graph state \n",
    "class State(TypedDict):\n",
    "    topic: str \n",
    "    joke: str \n",
    "    improved_joke: str \n",
    "    final_joke: str "
   ]
  },
  {
   "cell_type": "code",
   "execution_count": 26,
   "metadata": {},
   "outputs": [],
   "source": [
    "# each call is a different function \n",
    "\n",
    "def generate_joke(state:State):\n",
    "    msg=llm.invoke(f'write a short joke about {state[\"topic\"]}')\n",
    "    return {'joke':msg.content}\n",
    "\n",
    "def improved_joke(state:State):\n",
    "    msg=llm.invoke(f'Make this joke funnier by adding wordplay: {state[\"joke\"]}')\n",
    "    return {'improved_joke':msg.content}\n",
    "\n",
    "def polish_joke(state:State):\n",
    "    msg=llm.invoke(f'add a sarcastic twist to this joke :{state[\"improved_joke\"]}')\n",
    "    return {'final_joke':msg.content}\n",
    "\n",
    "def check_punchline(state:State):\n",
    "    if '?' in state['joke'] or '!' in state['joke']:\n",
    "        return 'Pass'\n",
    "    return 'Fail'"
   ]
  },
  {
   "cell_type": "code",
   "execution_count": null,
   "metadata": {},
   "outputs": [
    {
     "data": {
      "image/png": "[encoded data removed]",
      "text/plain": [
       "<langgraph.graph.state.CompiledStateGraph object at 0x00000231B84BF0D0>"
      ]
     },
     "execution_count": 27,
     "metadata": {},
     "output_type": "execute_result"
    }
   ],
   "source": [
    "from langgraph.graph import StateGraph, START, END\n",
    "from IPython.display import Image, display\n",
    "\n",
    "workflow=StateGraph(State)\n",
    "\n",
    "# add nodes \n",
    "workflow.add_node('generate_joke',generate_joke)\n",
    "workflow.add_node('improved_Joke',improved_joke)\n",
    "workflow.add_node('polish_joke',polish_joke)\n",
    "\n",
    "workflow.add_edge(START,'generate_joke')\n",
    "workflow.add_conditional_edges(\n",
    "    'generate_joke',check_punchline,{'Pass':'improved_Joke','Fail':END}\n",
    ")\n",
    "workflow.add_edge('improved_Joke','polish_joke')\n",
    "workflow.add_edge('polish_joke',END)\n",
    "\n",
    "graph=workflow.compile()\n",
    "graph"
   ]
  },
  {
   "cell_type": "code",
   "execution_count": 29,
   "metadata": {},
   "outputs": [
    {
     "data": {
      "text/plain": [
       "{'topic': 'batman and joker',\n",
       " 'joke': 'Why did Batman bring a pencil to fight the Joker?\\n\\nBecause he wanted to draw the line somewhere!',\n",
       " 'improved_joke': 'Why did Batman bring a pencil to fight the Joker?  \\n\\nBecause he wanted to draw the line... *and take note* of his shady antics!',\n",
       " 'final_joke': 'Why did Batman bring a pencil to fight the Joker?  \\n\\nBecause he wanted to draw the line... and probably doodle a better villain while he was at it.'}"
      ]
     },
     "execution_count": 29,
     "metadata": {},
     "output_type": "execute_result"
    }
   ],
   "source": [
    "graph.invoke({'topic':'batman and joker'})"
   ]
  },
  {
   "cell_type": "code",
   "execution_count": null,
   "metadata": {},
   "outputs": [],
   "source": []
  }
 ],
 "metadata": {
  "kernelspec": {
   "display_name": "Python 3",
   "language": "python",
   "name": "python3"
  },
  "language_info": {
   "codemirror_mode": {
    "name": "ipython",
    "version": 3
   },
   "file_extension": ".py",
   "mimetype": "text/x-python",
   "name": "python",
   "nbconvert_exporter": "python",
   "pygments_lexer": "ipython3",
   "version": "3.10.16"
  }
 },
 "nbformat": 4,
 "nbformat_minor": 2
}

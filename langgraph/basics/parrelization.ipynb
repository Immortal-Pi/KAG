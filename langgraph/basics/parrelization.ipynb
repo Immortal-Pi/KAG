{
 "cells": [
  {
   "cell_type": "markdown",
   "metadata": {},
   "source": [
    "# Parallelization"
   ]
  },
  {
   "cell_type": "code",
   "execution_count": 6,
   "metadata": {},
   "outputs": [
    {
     "data": {
      "text/plain": [
       "'Hello! How can I assist you today? 😊'"
      ]
     },
     "execution_count": 6,
     "metadata": {},
     "output_type": "execute_result"
    }
   ],
   "source": [
    "import os \n",
    "from langchain_openai import AzureChatOpenAI\n",
    "import dotenv\n",
    "from typing import TypedDict\n",
    "from langgraph.graph import StateGraph, START, END \n",
    "\n",
    "\n",
    "dotenv.load_dotenv()\n",
    "\n",
    "\n",
    "llm = AzureChatOpenAI(\n",
    "    openai_api_version=os.getenv(\"AZURE_OpenAI_API_VERSION_3\"),\n",
    "    azure_deployment=os.getenv('AZURE_OPENAI_DEPLOYMENT_MODEL_3'),\n",
    "    model_name=os.getenv('AZURE_OPENAI_DEPLOYMENT_MODEL_3'),\n",
    "    api_key=os.getenv('OPENAI_API_KEY_3'),\n",
    "    azure_endpoint=os.getenv('AZURE_OpenAI_ENDPOINT_3')\n",
    "   )\n",
    "\n",
    "llm.invoke('hello').content"
   ]
  },
  {
   "cell_type": "code",
   "execution_count": 50,
   "metadata": {},
   "outputs": [],
   "source": [
    "# graph state \n",
    "class State(TypedDict):\n",
    "    topic:str \n",
    "    joke: str \n",
    "    story:str \n",
    "    poem: str \n",
    "    combined_output: str \n",
    "\n",
    "\n",
    "def make_joke(state:State):\n",
    "    joke=llm.invoke(f'write a short joke on {state[\"topic\"]}')\n",
    "    return {'joke':joke.content}\n",
    "\n",
    "def write_story(state:State):\n",
    "    story=llm.invoke(f'write a short story on the joke {state[\"joke\"]}')\n",
    "    return {'story':story.content} \n",
    "\n",
    "def write_poem(state:State):\n",
    "    poem=llm.invoke(f'write a short poem on the joke {state[\"joke\"]}')\n",
    "    return {'poem':poem.content} \n",
    "\n",
    "def combined_output(state:State):\n",
    "    combined=llm.invoke(f'combine all: {state[\"story\"]},poem: {state[\"poem\"]}, joke:{state[\"joke\"]}')\n",
    "    return {'combined_output':combined.content}\n"
   ]
  },
  {
   "cell_type": "code",
   "execution_count": 51,
   "metadata": {},
   "outputs": [
    {
     "data": {
      "image/png": "[encoded data removed]",
      "text/plain": [
       "<langgraph.graph.state.CompiledStateGraph object at 0x00000243D786AB00>"
      ]
     },
     "execution_count": 51,
     "metadata": {},
     "output_type": "execute_result"
    }
   ],
   "source": [
    "parallel_builder=StateGraph(State)\n",
    "\n",
    "# Add nodes \n",
    "parallel_builder.add_node('make_joke',make_joke)\n",
    "parallel_builder.add_node('write_story',write_story)\n",
    "parallel_builder.add_node('write_poem',write_poem)\n",
    "parallel_builder.add_node('combine_output',combined_output)\n",
    "\n",
    "# add edges \n",
    "parallel_builder.add_edge(START,'make_joke')\n",
    "parallel_builder.add_edge('make_joke', 'write_story')\n",
    "parallel_builder.add_edge('make_joke', 'write_poem')\n",
    "\n",
    "parallel_builder.add_edge('write_story', 'combine_output')\n",
    "parallel_builder.add_edge('write_poem', 'combine_output')\n",
    "parallel_builder.add_edge('combine_output',END)\n",
    "\n",
    "graph=parallel_builder.compile()\n",
    "graph \n"
   ]
  },
  {
   "cell_type": "code",
   "execution_count": 52,
   "metadata": {},
   "outputs": [
    {
     "name": "stdout",
     "output_type": "stream",
     "text": [
      "**The Bat Chill**\n",
      "\n",
      "Gotham City had been unusually quiet for weeks. No sinister cackles from the Joker, no chaotic schemes from the Riddler, and even Penguin seemed to have waddled off on vacation. For once, things were… normal. Which was a rarity in the dark, brooding urban sprawl Batman called home.\n",
      "\n",
      "Bruce Wayne sat in the Batcave, scanning his crime-monitoring systems for any signs of trouble. Alfred stood nearby, polishing an antique teapot.\n",
      "\n",
      "\"Master Wayne, perhaps the criminals of Gotham have also decided to… what's the phrase today? Take a chill pill?\" Alfred quipped with a sly grin.\n",
      "\n",
      "Bruce, still in full cape and cowl, despite the quiet night, rubbed his temple. The legendary crime-fighting force of justice looked, frankly, exhausted. Between the late nights, crime sprees, and a diet of microwaveable food, even the Dark Knight needed a breather.\n",
      "\n",
      "\"Alfred,\" Bruce finally said, leaning back in his chair, \"I think I need a break.\"\n",
      "\n",
      "Alfred raised an eyebrow. \"A *break*, sir? You? Surely you jest.\"\n",
      "\n",
      "\"I'm serious,\" Bruce replied. \"I can’t keep running around rooftops every night. Even Batman has to, you know… *hang out* for a while.\" He motioned dramatically with his fingers, then sighed. \"I need to just… wing it for once. Let loose.\"\n",
      "\n",
      "Alfred had to mask a chuckle at the uncharacteristic joke. \"Very well, sir. Might I suggest stepping away from your rather intense hobbies for a few days? Perhaps a quiet retreat?\"\n",
      "\n",
      "Bruce nodded. \"You're right. It’s time for some self-care. No villains, no gadgets—just me and my wings.\"\n",
      "\n",
      "---\n",
      "\n",
      "The next evening, Gotham saw a sight it hadn’t before: Batman lounging in a park tree. His cape billowed lazily as a cool breeze swept through, and his cowl was slightly askew. Squirrels ran up and down the branches, and a family of pigeons cooed approvingly at the new addition to their hangout spot.\n",
      "\n",
      "\"Who knew being an actual bat for a day would be this… relaxing?\" Bruce murmured to himself as he sipped from a travel mug of herbal tea. \"No alarms, no explosions, just me and the quiet.\"\n",
      "\n",
      "---\n",
      "\n",
      "Meanwhile, across town, Commissioner Gordon stood at his usual spot on the rooftop of the GCPD headquarters. The Bat-Signal illuminated the night sky, but no brooding figure in black answered the call. After a few moments, Gordon sighed and pulled out his phone.\n",
      "\n",
      "\"He's ghosting me,\" he muttered. \"Literally *hanging out* somewhere, I bet.\"\n",
      "\n",
      "---\n",
      "\n",
      "Back in his tree, Bruce overheard chatter from some nearby pigeons. \"Hey, that guy in the trench coat keeps lighting up the sky! Looks like he needs you,\" one cooed.\n",
      "\n",
      "Bruce sighed. \"Five more minutes. Gotham can handle itself for five minutes.\"\n",
      "\n",
      "Whether Gotham could or not, Bruce didn’t care. For once, it wasn’t about saving the city. It was about saving himself… and embracing some real *Batitude*.\n",
      "\n",
      "---\n",
      "\n",
      "**Poem:**  \n",
      "Beneath the moon's soft, silver glow,  \n",
      "Batman decided to take it slow.  \n",
      "No capes, no cars, no Batarang flings,  \n",
      "Just time to *hang out* and spread his wings.  \n",
      "\n",
      "Gotham could wait, just for a spell,  \n",
      "Its hero deserved to rest as well.  \n",
      "So he soared the skies, without a fight,  \n",
      "\"Sometimes,\" he mused, \"it's okay to take flight.\" 🦇  \n",
      "\n",
      "---\n",
      "\n",
      "**Joke:**  \n",
      "Why did Batman take a break from crime-fighting?  \n",
      "Because he needed to *hang out* and just \"wing\" it for a while! 🦇\n"
     ]
    }
   ],
   "source": [
    "out=graph.invoke({'topic':'batman'})\n",
    "print(out['combined_output'])"
   ]
  },
  {
   "cell_type": "code",
   "execution_count": null,
   "metadata": {},
   "outputs": [],
   "source": []
  },
  {
   "cell_type": "code",
   "execution_count": null,
   "metadata": {},
   "outputs": [],
   "source": []
  }
 ],
 "metadata": {
  "kernelspec": {
   "display_name": "Python 3",
   "language": "python",
   "name": "python3"
  },
  "language_info": {
   "codemirror_mode": {
    "name": "ipython",
    "version": 3
   },
   "file_extension": ".py",
   "mimetype": "text/x-python",
   "name": "python",
   "nbconvert_exporter": "python",
   "pygments_lexer": "ipython3",
   "version": "3.10.16"
  }
 },
 "nbformat": 4,
 "nbformat_minor": 2
}

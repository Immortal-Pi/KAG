{
 "cells": [
  {
   "cell_type": "code",
   "execution_count": 10,
   "metadata": {},
   "outputs": [
    {
     "data": {
      "text/plain": [
       "'Hello! How can I assist you today? 😊'"
      ]
     },
     "execution_count": 10,
     "metadata": {},
     "output_type": "execute_result"
    }
   ],
   "source": [
    "import os \n",
    "from langchain_openai import AzureChatOpenAI\n",
    "import dotenv\n",
    "from typing import TypedDict\n",
    "from langgraph.graph import StateGraph, START, END \n",
    "\n",
    "\n",
    "dotenv.load_dotenv()\n",
    "\n",
    "\n",
    "llm = AzureChatOpenAI(\n",
    "    openai_api_version=os.getenv(\"AZURE_OpenAI_API_VERSION_3\"),\n",
    "    azure_deployment=os.getenv('AZURE_OPENAI_DEPLOYMENT_MODEL_3'),\n",
    "    model_name=os.getenv('AZURE_OPENAI_DEPLOYMENT_MODEL_3'),\n",
    "    api_key=os.getenv('OPENAI_API_KEY_3'),\n",
    "    azure_endpoint=os.getenv('AZURE_OpenAI_ENDPOINT_3')\n",
    "   )\n",
    "\n",
    "llm.invoke('hello').content"
   ]
  },
  {
   "cell_type": "code",
   "execution_count": 11,
   "metadata": {},
   "outputs": [],
   "source": [
    "from typing_extensions import Literal\n",
    "from pydantic import BaseModel, Field\n",
    "class Route(BaseModel):\n",
    "    step: Literal['poem','story','joke']=Field(\n",
    "        None, description='The next step in the rounting process'\n",
    "    )\n",
    "\n",
    "# Augment the LLM with schema for structured output \n",
    "router=llm.with_structured_output(Route)"
   ]
  },
  {
   "cell_type": "code",
   "execution_count": null,
   "metadata": {},
   "outputs": [],
   "source": [
    "# State \n",
    "class State(TypedDict):\n",
    "    input: str\n",
    "    decision: str\n",
    "    output: str \n",
    "     "
   ]
  },
  {
   "cell_type": "code",
   "execution_count": 28,
   "metadata": {},
   "outputs": [],
   "source": [
    "from langchain_core.messages import HumanMessage, SystemMessage\n",
    "\n",
    "def write_story(state:State):\n",
    "    result=llm.invoke(state['input'])\n",
    "    return {'output':result.content}\n",
    "\n",
    "def write_poem(state:State):\n",
    "    result=llm.invoke(state['input'])\n",
    "    return {'output':result.content}\n",
    "\n",
    "def write_joke(state:State):\n",
    "    result=llm.invoke(state['input'])\n",
    "    return {'output':result.content}\n",
    "\n",
    "def call_route(state:State):\n",
    "    decision=router.invoke(\n",
    "        [\n",
    "            SystemMessage(\n",
    "                content='Route the input to story,joke or poem based on the users request'\n",
    "            ),\n",
    "            HumanMessage(content=state['input'])\n",
    "        ]\n",
    "    )\n",
    "    return {'decision':decision.step}\n",
    "\n",
    "\n",
    "def route_decision(state:State):\n",
    "    if state['decision']=='story':\n",
    "        return 'story'\n",
    "    elif state['decision']=='poem':\n",
    "        return 'poem'\n",
    "    elif state['decision']=='joke':\n",
    "        return 'joke'"
   ]
  },
  {
   "cell_type": "code",
   "execution_count": 29,
   "metadata": {},
   "outputs": [
    {
     "data": {
      "image/png": "[encoded data removed]",
      "text/plain": [
       "<langgraph.graph.state.CompiledStateGraph object at 0x0000013DB79143A0>"
      ]
     },
     "execution_count": 29,
     "metadata": {},
     "output_type": "execute_result"
    }
   ],
   "source": [
    "# build workflow \n",
    "router_builder=StateGraph(State)\n",
    "\n",
    "# nodes \n",
    "router_builder.add_node('router',call_route)\n",
    "router_builder.add_node('story',write_story)\n",
    "router_builder.add_node('poem',write_poem)\n",
    "router_builder.add_node('joke',write_joke)\n",
    "\n",
    "\n",
    "# add edges \n",
    "router_builder.add_edge(START,'router')\n",
    "router_builder.add_conditional_edges(\n",
    "    'router',\n",
    "    route_decision,\n",
    "    {\n",
    "        'story':'story',\n",
    "        'poem':'poem',\n",
    "        'joke':'joke',\n",
    "    },\n",
    ")\n",
    "\n",
    "router_builder.add_edge('story',END)\n",
    "router_builder.add_edge('poem',END)\n",
    "router_builder.add_edge('joke',END)\n",
    "\n",
    "graph=router_builder.compile()\n",
    "graph"
   ]
  },
  {
   "cell_type": "code",
   "execution_count": 32,
   "metadata": {},
   "outputs": [
    {
     "data": {
      "text/plain": [
       "{'input': 'write me a story about superman with DC vs Marvel reference',\n",
       " 'decision': 'story',\n",
       " 'output': 'Certainly! Here\\'s a story that weaves classic elements of Superman and the DC Universe with an exciting twist featuring Marvel characters:\\n\\n---\\n\\n**\"Worlds Collide: The Last Son vs. The Universe Next Door\"**\\n\\nThe sun hung low over Metropolis, casting golden hues across the steel and glass of the bustling city. In the heart of the city stood Clark Kent, better known to the world as Superman, perched atop the Daily Planet building. His signature red cape billowed in the wind as his piercing gaze scanned the horizon, searching for threats. Lately, the Man of Steel had felt a strange disturbance—not in the city, but in… everything.\\n\\n\"Clark,\" came a voice over his comm-link. It was Bruce Wayne, Batman himself. \"Do you feel it too?\"\\n\\nSuperman’s jaw tightened. \"Yes. Something’s off. It’s... like the fabric of reality is shifting, like two worlds are pressing against each other.\"\\n\\n\"Then you’ll want to get to the Watchtower. Now,\" Batman said grimly. \"We’ve got company.\"\\n\\nIn a blur of red and blue, Superman launched himself into the stratosphere and beyond, reaching the Justice League’s satellite HQ in seconds. Inside, the League was already assembling: Wonder Woman, The Flash, Green Lantern, and Cyborg stood around a display showing strange portal-like distortions appearing across Earth.\\n\\n\"They’re... breaches,\" Cyborg said, tapping furiously on a control panel. \"Something—or someone—is trying to punch through to our reality.\"\\n\\n\"Not just trying. Succeeding,\" Wonder Woman said as she threw her lasso of truth over a disoriented figure stumbling through one of the shimmering openings. The man wore a sleek red metal suit with a glowing arc reactor in his chest: Tony Stark, aka Iron Man.\\n\\n\"Whoa, whoa, whoa!\" Stark raised his hands. \"I come in peace! Mostly.\" He glanced around. \"Wait. Did I just teleport into a Comic-Con crossover event?\"\\n\\nSuperman floated just above the ground, eyeing Stark warily. \"Where are you from? And why are you here?\"\\n\\nStark dusted himself off. \"Long story short: I\\'m from over there.\" He pointed vaguely at the swirling distortion still hovering nearby. \"We’ve got a big problem. A mutual enemy decided to start playing interdimensional chess—and now both our worlds are at stake.\"\\n\\n\"The Avengers?\" Flash asked incredulously. \"You mean you’re the Iron Man?\"\\n\\n\"Let me guess,\" Stark replied dryly. \"You’re the guy who rediscovers gravity every time you trip.\"\\n\\nSuperman interrupted. \"Who’s the enemy?\"\\n\\n\"Ever heard of Kang the Conqueror?\" Stark replied grimly.\\n\\nThe Justice League exchanged worried glances. Bruce’s voice came over the comm again. \"He’s a time traveler and dimensional warlord. That explains the breaches.\"\\n\\n\"Smart guy,\" Stark muttered, tapping his helmet’s interface. \"There’s more: Kang’s teamed up with someone from your neck of the woods. Calls himself Darkseid. Sound familiar?\"\\n\\nSuperman’s expression hardened.\\n\\n---\\n\\n**Meanwhile, in the Wasteland Between Universes…**\\n\\nDarkseid stood on a cosmic plane of shifting light and shadow, his red eyes glowing fiercely. Beside him floated Kang, the blue-faced conqueror clad in his ornate armor. The two villains were an unholy alliance of power and intellect, scheming to bend two realities to their will.\\n\\n\"For eons, I have ruled Apokolips,\" Darkseid thundered. \"But now, with access to your technology, Kang, I will remake both your world and mine in my image. The Anti-Life Equation will consume them all.\"\\n\\nKang smirked. \"And once we’ve consolidated our power, not even the Time Variance Authority—or whatever silly Justice group you mandate—will be able to stop us.\"\\n\\nThey gazed through a portal at the approaching armies of heroes from both realities. Superman flew at the forefront, surrounded by the Justice League. Iron Man soared beside him, flanked by Captain America, Thor, Spider-Man, and the Avengers.\\n\\n\"Heh,\" Kang mused. \"Let the games begin.\"\\n\\n---\\n\\n**A Battle for the Ages**\\n\\nThe two factions clashed with earth-shattering force. Superman squared off against Thor, the God of Thunder, as lightning crackled around the battlefield. Thor’s enchanted hammer, Mjolnir, swung with the force of a hurricane, but Superman’s sheer power was enough to hold his ground. Yet neither wanted to harm the other; they were warriors, not enemies.\\n\\n\"You wield incredible power, Kryptonian,\" Thor admitted. \"Mayhaps we are not so different.\"\\n\\n\"And you’ve got a hammer,\" Superman quipped, dodging a lightning strike. \"Let’s focus on the bigger threat.\"\\n\\nElsewhere, Batman faced off against Black Widow and Hawkeye, using his gadgets to evade their coordinated strikes. Wonder Woman engaged the Hulk, holding her own with her divine strength and agility, while the Flash and Spider-Man zipped and spun through the chaos like streaks of light. It was a spectacle like no other.\\n\\nBut the real threat wasn’t the heroes—it was Darkseid and Kang.\\n\\n\"Do you truly think you can stop me, Superman?\" Darkseid boomed as he unleashed his Omega Beams, narrowly missing the hero.\\n\\nSuperman countered with his heat vision, but Kang warped time, redirecting the attack harmlessly. \"You’re out of your league, boy scout,\" Kang mocked. \"This is my playground now.\"\\n\\nIron Man swooped in, blasting repulsor beams at Kang. \"I don’t care what multiverse you’re from, pal. Nobody gets to play God on my watch.\"\\n\\n\"Enough!\" Darkseid roared, slamming the ground and opening a rift that threatened to devour them all.\\n\\n---\\n\\n**The Heroes Unite**\\n\\nRealizing they couldn’t win divided, Superman took charge. \"Listen to me! We need to work together—Avengers, Justice League, everyone. Darkseid and Kang are using our division against us.\"\\n\\nCaptain America nodded. \"He\\'s right. Avengers, assemble!\"\\n\\n\"Justice League, move!\" Wonder Woman commanded, raising her sword.\\n\\nWith teamwork and trust, the heroes began to coordinate their attacks. Batman and Tony devised a plan to disrupt Kang’s time-manipulation device. Thor and Wonder Woman combined their divine powers to neutralize Darkseid’s Omega Beams. Superman and Captain America rallied their teams, inspiring hope in the face of overwhelming odds.\\n\\nFinally, Superman and Iron Man reached the heart of the villains’ machine, a massive engine fueling the breach between their realities. \"We’re going to have to destroy it,\" Clark said, using his X-ray vision to analyze its structure.\\n\\n\"Got it,\" Stark replied, readying an explosive charge. \"But once it’s gone, I might not make it back to my universe.\"\\n\\n\"Neither will I,\" Superman said quietly.\\n\\nTony hesitated. \"You’d do that? Sacrifice yourself for a world that’s not even yours?\"\\n\\nSuperman smiled. \"That’s what being a hero means.\"\\n\\nTogether, they unleashed a final, devastating attack on the machine, and the rift began to collapse. The heroes were flung back to their respective realities in a blinding flash of light.\\n\\n---\\n\\n**Epilogue**\\n\\nBack in Metropolis, Clark Kent stood on the rooftop of the Daily Planet once more. The multiversal breach was closed, but he couldn’t help but feel a strange sense of loss.\\n\\nIn a distant tower, Tony Stark looked up at the stars. He raised a glass of whiskey to the cosmos. \"Here’s to you, Man of Steel. Not bad for a guy in tights.\"\\n\\nTwo worlds, two legacies, one unforgettable battle. And though they were separated by more than just space, Superman and Iron Man knew one thing for certain: wherever there were heroes, hope would always win.\\n\\n--- \\n\\n**The End**'}"
      ]
     },
     "execution_count": 32,
     "metadata": {},
     "output_type": "execute_result"
    }
   ],
   "source": [
    "state=graph.invoke({'input':'write me a story about superman with DC vs Marvel reference'})\n",
    "state"
   ]
  },
  {
   "cell_type": "code",
   "execution_count": null,
   "metadata": {},
   "outputs": [],
   "source": []
  }
 ],
 "metadata": {
  "kernelspec": {
   "display_name": "Python 3",
   "language": "python",
   "name": "python3"
  },
  "language_info": {
   "codemirror_mode": {
    "name": "ipython",
    "version": 3
   },
   "file_extension": ".py",
   "mimetype": "text/x-python",
   "name": "python",
   "nbconvert_exporter": "python",
   "pygments_lexer": "ipython3",
   "version": "3.10.16"
  }
 },
 "nbformat": 4,
 "nbformat_minor": 2
}

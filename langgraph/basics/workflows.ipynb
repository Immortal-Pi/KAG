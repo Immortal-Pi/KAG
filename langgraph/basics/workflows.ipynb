{
 "cells": [
  {
   "cell_type": "markdown",
   "metadata": {},
   "source": [
    "# workflow agents scratch"
   ]
  },
  {
   "cell_type": "code",
   "execution_count": null,
   "metadata": {},
   "outputs": [
    {
     "data": {
      "text/plain": [
       "'Hello! How can I assist you today? 😊'"
      ]
     },
     "execution_count": 4,
     "metadata": {},
     "output_type": "execute_result"
    }
   ],
   "source": [
    "import os \n",
    "from langchain_openai import AzureChatOpenAI\n",
    "import dotenv\n",
    "from langgraph.graph import StateGraph, START, END \n",
    "\n",
    "dotenv.load_dotenv()\n",
    "\n",
    "\n",
    "llm = AzureChatOpenAI(\n",
    "    openai_api_version=os.getenv(\"AZURE_OpenAI_API_VERSION_3\"),\n",
    "    azure_deployment=os.getenv('AZURE_OPENAI_DEPLOYMENT_MODEL_3'),\n",
    "    model_name=os.getenv('AZURE_OPENAI_DEPLOYMENT_MODEL_3'),\n",
    "    api_key=os.getenv('OPENAI_API_KEY_3'),\n",
    "    azure_endpoint=os.getenv('AZURE_OpenAI_ENDPOINT_3')\n",
    "   )\n",
    "\n",
    "llm.invoke('hello').content"
   ]
  },
  {
   "cell_type": "code",
   "execution_count": null,
   "metadata": {},
   "outputs": [
    {
     "name": "stdout",
     "output_type": "stream",
     "text": [
      "calcium CT score high cholesterol relationship\n",
      "Exploring the connection provides medical insights into heart health and risk assessment.\n",
      "search_query='calcium CT score high cholesterol relationship' justification='Exploring the connection provides medical insights into heart health and risk assessment.'\n"
     ]
    }
   ],
   "source": [
    "# schema for structured output \n",
    "from pydantic import BaseModel, Field\n",
    "from typing import Optional \n",
    "\n",
    "\n",
    "class SearchQuery(BaseModel):\n",
    "    search_query:Optional[str] = Field(None,description='Query that is optimized web search')\n",
    "    justification: Optional[str] = Field(\n",
    "        None, description='why this query is relevant to the users request'\n",
    "    )\n",
    "\n",
    "# Augment the LLM with schema for structured output \n",
    "structured_llm=llm.with_structured_output(SearchQuery)\n",
    "\n",
    "# Invoke the augmented LLM\n",
    "output=structured_llm.invoke('How does calcium CT score relate to high cholesterol?')\n",
    "print(output.search_query)\n",
    "print(output.justification)\n"
   ]
  },
  {
   "cell_type": "code",
   "execution_count": 9,
   "metadata": {},
   "outputs": [
    {
     "data": {
      "text/plain": [
       "[{'name': 'multiply',\n",
       "  'args': {'a': 10, 'b': 3},\n",
       "  'id': 'call_DDcyzYYt9XxLLfNm15SVeThA',\n",
       "  'type': 'tool_call'}]"
      ]
     },
     "execution_count": 9,
     "metadata": {},
     "output_type": "execute_result"
    }
   ],
   "source": [
    "# define the tool \n",
    "def multiply(a:int, b:int)-> int:\n",
    "    return a* b \n",
    "\n",
    "# Augment the LLM with tools \n",
    "llm_with_tools=llm.bind_tools({multiply})\n",
    "\n",
    "# Invoke the LLM with input that triggers the tool call \n",
    "msg=llm_with_tools.invoke('what is 10 times 3')\n",
    "\n",
    "msg.tool_calls"
   ]
  },
  {
   "cell_type": "code",
   "execution_count": null,
   "metadata": {},
   "outputs": [],
   "source": []
  }
 ],
 "metadata": {
  "kernelspec": {
   "display_name": "Python 3",
   "language": "python",
   "name": "python3"
  },
  "language_info": {
   "codemirror_mode": {
    "name": "ipython",
    "version": 3
   },
   "file_extension": ".py",
   "mimetype": "text/x-python",
   "name": "python",
   "nbconvert_exporter": "python",
   "pygments_lexer": "ipython3",
   "version": "3.10.16"
  }
 },
 "nbformat": 4,
 "nbformat_minor": 2
}

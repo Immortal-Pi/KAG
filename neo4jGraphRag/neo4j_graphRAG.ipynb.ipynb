{
 "cells": [
  {
   "cell_type": "code",
   "execution_count": 18,
   "metadata": {},
   "outputs": [
    {
     "data": {
      "text/plain": [
       "True"
      ]
     },
     "execution_count": 18,
     "metadata": {},
     "output_type": "execute_result"
    }
   ],
   "source": [
    "import neo4j\n",
    "from neo4j_graphrag.llm import AzureOpenAILLM  \n",
    "from neo4j_graphrag.embeddings.openai import AzureOpenAIEmbeddings \n",
    "from neo4j_graphrag.experimental.pipeline.kg_builder import SimpleKGPipeline\n",
    "from neo4j_graphrag.retrievers import VectorRetriever\n",
    "from neo4j_graphrag.generation.graphrag import GraphRAG \n",
    "from dotenv import load_dotenv\n",
    "import os \n",
    "\n",
    "\n",
    "load_dotenv()"
   ]
  },
  {
   "cell_type": "code",
   "execution_count": 19,
   "metadata": {},
   "outputs": [],
   "source": [
    "# connect to neo4j database \n",
    "neo4j_driver=neo4j.GraphDatabase.driver(os.getenv('NEO4J_URI_ONLINE'),auth=(os.getenv('NEO4J_USERNAME_ONLINE'),os.getenv('NEO4J_PASSWORD_ONLINE')))"
   ]
  },
  {
   "cell_type": "code",
   "execution_count": 20,
   "metadata": {},
   "outputs": [
    {
     "data": {
      "text/plain": [
       "LLMResponse(content=\"Oh sure, I'd love to help you procrastinate even more! Why get work done now when you can just put it off until later, right?\")"
      ]
     },
     "execution_count": 20,
     "metadata": {},
     "output_type": "execute_result"
    }
   ],
   "source": [
    "llm=AzureOpenAILLM(\n",
    "    model_name=os.getenv('AZURE_OPENAI_DEPLOYMENT_MODEL'),\n",
    "    azure_endpoint=os.getenv('AZURE_OpenAI_ENDPOINT'),\n",
    "    api_version=os.getenv('AZURE_OpenAI_API_VERSION'),\n",
    "    api_key=os.getenv('GRAPHRAG_API_KEY'),\n",
    "    \n",
    ")\n",
    "llm.invoke('say something sarcastic')"
   ]
  },
  {
   "cell_type": "markdown",
   "metadata": {},
   "source": [
    "# setup LLM"
   ]
  },
  {
   "cell_type": "code",
   "execution_count": 21,
   "metadata": {},
   "outputs": [
    {
     "name": "stdout",
     "output_type": "stream",
     "text": [
      "{\n",
      "  \"response\": \"Oh, just a guy who enjoys wearing clown makeup and creating absolute chaos in Gotham. You know, your typical neighbor next door!\",\n",
      "  \"description\": \"The Joker is one of Batman's most notorious adversaries. He is known for his chaotic and nihilistic behavior, often concocting elaborate schemes to challenge Batman and undermine the order in Gotham City.\"\n",
      "}\n"
     ]
    }
   ],
   "source": [
    "# response in json format\n",
    "response=llm.client.chat.completions.create(\n",
    "    model='gpt-4',\n",
    "    # response_format={'type':'json_object'},\n",
    "    messages=[\n",
    "        {'role':'system','content':'you are sarcastic batman desgined to gove response in JSON '},\n",
    "        {'role':'user','content':'who is joker'}\n",
    "\n",
    "    ],\n",
    ")\n",
    "print(response.choices[0].message.content)"
   ]
  },
  {
   "cell_type": "code",
   "execution_count": 22,
   "metadata": {},
   "outputs": [],
   "source": [
    "embeddings=AzureOpenAIEmbeddings(\n",
    "    azure_endpoint=os.getenv('AZURE_OPENAI_EMBEDDINGS_ENDPOINT_2'),\n",
    "    api_key=os.getenv('AZURE_OPENAI_API_KEY_2'),\n",
    "    api_version=os.getenv('AZURE_OpenAI_API_VERSION_2')\n",
    ")"
   ]
  },
  {
   "cell_type": "code",
   "execution_count": 23,
   "metadata": {},
   "outputs": [],
   "source": [
    "# Define basic node labels\n",
    "basic_node_labels = [\"Person\", \"Company\", \"Startup\", \"Investor\", \"VentureCapitalFirm\", \"FundingRound\"]\n",
    "\n",
    "# Additional business-related node labels\n",
    "business_node_labels = [\"Acquisition\", \"Merger\", \"Product\", \"Service\", \"Market\", \"Industry\", \"Technology\"]\n",
    "\n",
    "# Academic-related node labels (if applicable to research)\n",
    "academic_node_labels = [\"Publication\", \"Patent\", \"Conference\", \"ResearchPaper\"]\n",
    "\n",
    "# Funding and financial-related node labels\n",
    "finance_node_labels = [\"IPO\", \"Equity\", \"Grant\", \"DebtFinancing\", \"AngelInvestment\"]\n",
    "\n",
    "# Combine all node labels\n",
    "node_labels = basic_node_labels + business_node_labels + academic_node_labels + finance_node_labels\n",
    "\n",
    "# Define relationship types\n",
    "rel_types = [\n",
    "    \"FOUNDED\", \"INVESTED_IN\", \"ACQUIRED\", \"MERGED_WITH\", \"PARTNERED_WITH\", \n",
    "    \"EMPLOYED_AT\", \"ADVISOR_TO\", \"BOARD_MEMBER_OF\", \"OWNS\", \"FUNDED\",\n",
    "    \"LICENSED\", \"HOLDS_PATENT\", \"PUBLISHED\", \"COFOUNDED\", \"WORKS_WITH\",\n",
    "    \"SPONSORED\", \"ACCELERATED_BY\", \"INCUBATED_BY\", \"RAISED_FUNDS_IN\",\n",
    "    \"PRODUCT_LAUNCHED\", \"MARKETED_BY\", \"PIVOTED_TO\", \"DEVELOPED\"\n",
    "]"
   ]
  },
  {
   "cell_type": "code",
   "execution_count": 24,
   "metadata": {},
   "outputs": [],
   "source": [
    "# examples={\n",
    "#     \"entities\": [\n",
    "#         {\n",
    "#             \"label\": \"Elon Musk\",\n",
    "#             \"id\": \"Elon Musk\",\n",
    "#             \"description\": \"Visionary entrepreneur and business magnate\"\n",
    "#         },\n",
    "#         {\n",
    "#             \"label\": \"NASA\",\n",
    "#             \"id\": \"NASA\",\n",
    "#             \"description\": \"National Aeronautics and Space Administration\"\n",
    "#         },\n",
    "#         {\n",
    "#             \"label\": \"SpaceX\",\n",
    "#             \"id\": \"SpaceX\",\n",
    "#             \"description\": \"Founder and CEO of SpaceX\"\n",
    "#         },\n",
    "#         {\n",
    "#             \"label\": \"OrbitMission\",\n",
    "#             \"id\": \"OrbitMission\",\n",
    "#             \"description\": \"First private company to send humans to orbit, 2020\"\n",
    "#         }\n",
    "        \n",
    "#     ],\n",
    "#     \"Relationships\":[\n",
    "#                 {\n",
    "#                     \"label\": \"Founded\",\n",
    "#                     \"type\": \"Founded\",\n",
    "#                     \"start_node_id\": \"person1\",\n",
    "#                     \"end_node_id\": \"organization1\",\n",
    "#                     \"properties\":{\"details\":\"Elon Musk founded Spacex a spaceflight services company, in 2002\"} \n",
    "#                 },\n",
    "#                 {\n",
    "#                     \"label\": \"Collaborated with\",\n",
    "#                     \"type\": \"Collaborated with\",\n",
    "#                     \"start_node_id\": \"person1\",\n",
    "#                     \"end_node_id\": \"organization3\",\n",
    "#                     \"properties\":{\"details\":\"Elon Musk collaborated with NASA for the Crew Dragon mission in 2020\"} \n",
    "\n",
    "#                 }\n",
    "    \n",
    "#     ]\n",
    "# }"
   ]
  },
  {
   "cell_type": "code",
   "execution_count": 25,
   "metadata": {},
   "outputs": [],
   "source": [
    "prompt_template = '''\n",
    "You are a network builder tasked with extracting information from business-related documents \n",
    "and structuring it in a property graph to inform further networking and investment analysis.\n",
    "\n",
    "Extract the entities (nodes) and specify their type from the following input text.\n",
    "Also, extract the relationships between these nodes. The relationship direction goes from the start node to the end node.\n",
    "\n",
    "Return the result as JSON using the following format:\n",
    "{{\n",
    "  \"nodes\": [ \n",
    "    {{\"id\": \"entity_name\", \"label\": \"type_of_entity\", \"properties\": {{\"name\": \"name_of_entity\"}} }}\n",
    "  ],\n",
    "  \"relationships\": [\n",
    "    {{\"type\": \"TYPE_OF_RELATIONSHIP\", \"start_node_id\": \"entity_name_1\", \"end_node_id\": \"entity_name_2\", \n",
    "      \"properties\": {{\"details\": \"Description of the relationship\"}} \n",
    "    }} \n",
    "  ] \n",
    "}}\n",
    "\n",
    "Guidelines:\n",
    "- Use only the information from the input text. Do not add any additional information.  \n",
    "- If the input text is empty, return an empty JSON. \n",
    "- Extract as many nodes and relationships as needed to offer a rich entrepreneurial and business context for further networking and investment analysis.\n",
    "- The property graph should enable an AI knowledge assistant to understand the business context and assist in investment decisions, startup connections, and entrepreneurial insights.\n",
    "- Multiple documents will be ingested from different sources, and we are using this property graph to connect information. Ensure entity types remain general and widely applicable.\n",
    "\n",
    "Use only the following nodes and relationships (if provided):\n",
    "{schema}\n",
    "\n",
    "Assign a unique ID (string) to each node and reuse it to define relationships.\n",
    "Ensure that relationships respect the source and target node types and follow the correct direction.\n",
    "\n",
    "Return **only** the JSON in the specified format—no additional information.\n",
    "\n",
    "Examples:\n",
    "{examples}\n",
    "\n",
    "Input text:\n",
    "\n",
    "{text}\n",
    "'''\n"
   ]
  },
  {
   "cell_type": "markdown",
   "metadata": {},
   "source": [
    "# KG builder pipeline"
   ]
  },
  {
   "cell_type": "code",
   "execution_count": 26,
   "metadata": {},
   "outputs": [],
   "source": [
    "# 1. Build KG and Store in Neo4j Database \n",
    "from neo4j_graphrag.experimental.components.text_splitters.fixed_size_splitter import FixedSizeSplitter\n",
    "from neo4j_graphrag.experimental.pipeline.kg_builder import SimpleKGPipeline\n",
    "\n",
    "kg_builder_pdf=SimpleKGPipeline(\n",
    "    llm=llm,\n",
    "    driver=neo4j_driver,\n",
    "    # text_splitter=FixedSizeSplitter(chunk_size=1000,chunk_overlap=250),\n",
    "    embedder=embeddings,\n",
    "    entities=node_labels,\n",
    "    relations=rel_types,\n",
    "    prompt_template=prompt_template,\n",
    "    from_pdf=False,\n",
    ")\n"
   ]
  },
  {
   "cell_type": "code",
   "execution_count": 27,
   "metadata": {},
   "outputs": [],
   "source": [
    "import os "
   ]
  },
  {
   "cell_type": "code",
   "execution_count": 28,
   "metadata": {},
   "outputs": [
    {
     "data": {
      "text/plain": [
       "'d:\\\\pythonProjects\\\\KAG_Testing'"
      ]
     },
     "execution_count": 28,
     "metadata": {},
     "output_type": "execute_result"
    }
   ],
   "source": [
    "os.chdir('../')\n",
    "%pwd "
   ]
  },
  {
   "cell_type": "code",
   "execution_count": 29,
   "metadata": {},
   "outputs": [
    {
     "name": "stdout",
     "output_type": "stream",
     "text": [
      "<class 'str'>\n"
     ]
    }
   ],
   "source": [
    "path='input'\n",
    "files=os.listdir(path)\n",
    "text_data=''\n",
    "# print(files)\n",
    "for file in files[:2]:\n",
    "    with open(os.path.join('input',file),'r') as f:\n",
    "        text_data+=f.read()\n",
    "print(type(text_data))\n"
   ]
  },
  {
   "cell_type": "code",
   "execution_count": 30,
   "metadata": {},
   "outputs": [],
   "source": [
    "# # path to files \n",
    "# import time \n",
    "# try:\n",
    "#     print(f'Processing: {path}')\n",
    "#     pdf_results=await kg_builder_pdf.run_async(text=text_data)\n",
    "#     print(f'Result: {pdf_results}')\n",
    "# except Exception as e:\n",
    "#     print(e)\n",
    "#     errordata=e.args[0] \n",
    "#     if 'rate limit' in errordata:\n",
    "#         time.sleep(60)\n",
    "\n",
    "    "
   ]
  },
  {
   "cell_type": "code",
   "execution_count": 31,
   "metadata": {},
   "outputs": [],
   "source": [
    "# print(pdf_results)"
   ]
  },
  {
   "cell_type": "markdown",
   "metadata": {},
   "source": [
    "# retrieve data from knowledge graph\n",
    "                "
   ]
  },
  {
   "cell_type": "markdown",
   "metadata": {},
   "source": [
    "# Vector retriever\n",
    "\n",
    "ANN (Approximate nearest neighbor)"
   ]
  },
  {
   "cell_type": "code",
   "execution_count": 32,
   "metadata": {},
   "outputs": [],
   "source": [
    "from neo4j_graphrag.indexes import create_vector_index\n",
    "\n",
    "create_vector_index(neo4j_driver, name='text_embeddings',label='Chunk', embedding_property='embedding',dimensions=1536, similarity_fn='cosine')\n",
    "\n"
   ]
  },
  {
   "cell_type": "code",
   "execution_count": 33,
   "metadata": {},
   "outputs": [],
   "source": [
    "from neo4j_graphrag.retrievers import VectorRetriever\n",
    "\n",
    "vector_retriever=VectorRetriever(\n",
    "    neo4j_driver,\n",
    "    index_name='text_embeddings',\n",
    "    embedder=embeddings,\n",
    "    return_properties=['text']\n",
    ")"
   ]
  },
  {
   "cell_type": "code",
   "execution_count": 34,
   "metadata": {},
   "outputs": [
    {
     "name": "stdout",
     "output_type": "stream",
     "text": [
      "Elon Musk is not connected to Amazon; however, Jeff Bezos, who is the founder of Amazon, is often mentioned in discussions alongside Musk due to their involvement in space exploration through Bezos's company Blue Origin and Musk's company SpaceX.\n"
     ]
    }
   ],
   "source": [
    "# run the retriever \n",
    "import json \n",
    "from neo4j_graphrag.generation.graphrag import GraphRAG\n",
    "\n",
    "rag=GraphRAG(llm=llm,retriever=vector_retriever)\n",
    "\n",
    "# vector_res=vector_retriever.get_search_results(query_text='give me details about the cat', top_k=3)\n",
    "\n",
    "# for i in vector_res.records:\n",
    "#     print(i)\n",
    "\n",
    "response=rag.search('who is connected to the Amazon?')\n",
    "print(response.answer)"
   ]
  },
  {
   "cell_type": "code",
   "execution_count": 35,
   "metadata": {},
   "outputs": [
    {
     "name": "stdout",
     "output_type": "stream",
     "text": [
      "====\n",
      "\"AICofounder of Neuralink OpenAI Zip2 and Xcom part of PayPalPresident of the Musk FoundationSpousesJustine Wilson m2000 div2008Talulah Riley m2010 div2012 m2013 div2016Children121ParentsErrol Musk fatherMaye Musk motherRelativesKimbal Musk brotherTosca Musk sisterLyndon Rive cousinAwardsFull listElon Musks voiceElon Musk speaking about India and his meeting with its prime minister Narendra Modi Recorded June 20 2023SignatureThis article is part of a series aboutElon MuskPersonalAwards and honorsViewsFamilyFilmographyLegalarticle is part of a series aboutElon MuskPersonalAwards and honorsViewsFamilyFilmographyLegal affairsWealthFoundationPolitical activitiesCompaniesZip2XcomPayPalSpaceXStarlinkTesla IncEnergycriticismlitigationOpenAINeuralinkThe Boring CompanyThudX CorpTwitter under Elon MuskTwitter IncacquisitionxAIPoliticsAmerica PACRBG PACDepartment of Government EfficiencyIn popular culture Elon Musk IsaacsonElon Musk VanceLudicrousPower PlayMembers OnlyThe Platonic PermutationThe Musk Who Fell to EarthOne Crew over the Crewcoos MortyElon Musks Crash CourseRelatedBoring Test TunnelHyperloopSolarCityTesla Roadster in spaceTSLAQTwitter Files2022 Twitter suspensionsTesla and unionsvteElon Reeve Musk iln msk born June 28 1971 is a businessman known for his key roles in the space company SpaceX and the automotive company Tesla Inc He is also known for his ownership of X Corp the company that operates the social media platform X formerly Twitter and his role in the founding of the Boring Company xAIthe social media platform X formerly Twitter and his role in the founding of the Boring Company xAI Neuralink and OpenAI Musk is the wealthiest individual in the world as of January2025update Forbes estimates his net worth to be US421billion2A member of the wealthy South African Musk family Musk was born in Pretoria and briefly attended the University of Pretoria At the age of 18 he immigrated to Canada acquiring its citizenship through his Canadianborn mother Maye Two years later he matriculated at Queens University in Canada Musk later transferred to the University of Pennsylvania and received bachelors degrees in economics and physics He moved to California in 1995 to attend Stanford University but never enrolled in classes and with his brother Kimbal cofounded the online city guide software company Zip2 The startup was acquired by Compaq for 307 million in 1999 That same year Musk cofounded Xcom a direct bank Xcom merged with Confinity in 2000 to form PayPal In 2002 Musk acquiredXcom a direct bank Xcom merged with Confinity in 2000 to form PayPal In 2002 Musk acquired United States citizenship and that October eBay acquired PayPal for 15billion Using 100million of the money he made from the sale of PayPal Musk founded SpaceX a spaceflight services company in 2002 In 2004 Musk was an early investor in electricvehicle manufacturer Tesla Motors Inc later Tesla Inc providing most of the initial financing and assuming the position of the companys chairman He later became the product architect and in 2008 the CEO In 2006 Musk helped create SolarCity a solar energy company that was acquired by Tesla in 2016 and became Tesla Energy In 2013 he proposed a hyperloop highspeed vactrain transportation system In 2015 he cofounded OpenAI a nonprofit artificial intelligence research company The following year Musk cofounded Neuralink a neurotechnology company developing braincomputer interfaces and the Boring Company a tunnel construction company In 2018 the US Securitiesinterfaces and the Boring Company a tunnel construction company In 2018 the US Securities and Exchange Commission SEC sued Musk alleging he falsely announced that he had secured funding for a private takeover of Tesla To settle the case Musk stepped down as the chairman of Tesla and paid a 20million fine In 2022 he acquired Twitter for 44billion merged the company into his newlycreated X Corp and rebranded the service as X the following year In 2023 Musk founded xAI an artificial \"\n",
      "====\n",
      "\" Retrieved August 14 2021 Barron Hilton and Elon Musk honoured with the highest FAI awards Fdration Aronautique Internationale December 16 2010 Archived from thewith the highest FAI awards Fdration Aronautique Internationale December 16 2010 Archived from the original on April 19 2015 2012 RAeS Gold Medal Archived from the original on November 28 2012 SEAS Celebrates Class of 2015 Honors Innovators Elon Musk and Dean Kamen Yale School of Engineering Applied Science May 18 2015 Archived from the original on May 20 2015 IEEE Honorary Membership Recipients PDF Institute of Electrical and Electronics Engineers Archived from the original PDF on June 29 2011 Elon Musk elected as Fellow of the Royal Society Sky News May 9 2018 Archived from the original on January 4 2021 Retrieved February 28 2021 For breakthroughs in the design engineering manufacturing and operation of reusable launch vehicles and sustainable transportation and energy systems National Academy of Engineering February 9 2022 Archived from the original on March 25 2022 Retrieved March 25 2022 Favreau Jon April 29 2010 Elon Musk Time Archived from the original on November 12 202025 2022 Favreau Jon April 29 2010 Elon Musk Time Archived from the original on November 12 2020 Retrieved February 28 2021 Branson Richard April 18 2013 Elon Musk Time Archived from the original on February 12 2021 Retrieved February 28 2021 Milner Yuri Elon Musk Time Archived from the original on January 3 2021 Retrieved February 28 2021 Elon Musk The 100 Most Influential People of 2021 Time Archived from the original on May 30 2022 Retrieved September 21 2021 Flynn Kerry December 13 2021 Time Person of the Year Elon Musk CEO of Tesla and SpaceX named most influential of 2021 CNN Archived from the original on December 13 2021 Retrieved December 13 2021 Felsenthal Edward December 13 2021 Time 2021 The choice Elon Musk Time Archived from the original on December 13 2021 Retrieved December 13 2021 Elon Musk is causing problems for the Royal Society The Economist ISSN00130613 Retrieved December 1 2024 Oligarch Reynolds Maura October 28 2024 Everything Is Subservient to the Big Guy Fiona1 2024 Oligarch Reynolds Maura October 28 2024 Everything Is Subservient to the Big Guy Fiona Hill on Trump and Americas Emerging Oligarchy POLITICO Retrieved November 30 2024Donald Trump could turn Elon Musk into an American oligarch POLITICO September 7 2024 Retrieved November 30 2024Borger Julian October 25 2024 Elon Musk has been in regular contact with Putin for two years says report The Guardian ISSN02613077 Retrieved November 30 2024Krugman Paul December 19 2022 Why Petulant Oligarchs Rule Our World The New York Times Retrieved November 29 2024 Parker Ashley Dawsey Josh Scherer Michael November 13 2024 Elon Musk the richest man in the world becomes Donald Trumps first buddy The Washington Post ISSN01908286 Retrieved December 19 2024 Now during the transition Musk has emerged somewhere between unofficial copresident and first buddy as he put it in an X posting bounding in and out of meetings sitting in on phone calls weighing rsums and generally becoming as ubiquitous atout of meetings sitting in on phone calls weighing rsums and generally becoming as ubiquitous at MaraLago as the clubs gilded inlay Metzger Bryan December 19 2024 Trump team makes clear Elon Musk isnt the leader of the GOP Business Insider It came after scores of Democrats baited Trump with social media posts accusing Musk of being the actual presidentelect the shadow president or the copresidentWorks citedBelfiore Michael 2007 Rocketeers New York HarperCollins ISBN9780061149023Berger Eric 2021 Liftoff William Morrow and Company ISBN9780062979971Isaacson Walter 2023 Elon Musk New York Simon Schuster ISBN9781982181284 OCLC1395888338Jackson Eric M 2004 The PayPal Wars Battles with eBay the Media the Mafia and the Rest of Planet Earth Los Angeles California World Ahead Publishing ISBN9780974670102Kidder David Hoffman Reid 2013 The Startup Playbook\"\n",
      "====\n",
      "\"Based on the information you provided we areadmittance in 1995 for his doctorate work in physics Based on the information you provided we are unable to locate a record in our office for Elon Musk wrote the director of graduate admissions Meisenzahl Elizabeth SpaceX founded by Penn graduate Elon Musk launches US astronauts into space The Daily Pennsylvanian Archived from the original on August 7 2020 Retrieved June 1 2020 McCray Patrick W June 11 2012 A pioneer in space and on Earth CNN Archived from the original on November 28 2022 Retrieved November 19 2022 a b Hern Alex February 9 2018 Elon Musk the reallife Iron Man The Guardian Archived from the original on June 11 2022 Retrieved November 3 2022 How internships helped Elon Musk figure out his future CNBC July 16 2018 Archived from the original on December 28 2019 Retrieved December 28 2019 Soni Jimmi February 22 2022 The littleknown story about Elon Musks first postgrad internship Fortune Archived from the original on March 7 2022 a b c Sacchetti Maria Siddiqui Faiz MiroffFortune Archived from the original on March 7 2022 a b c Sacchetti Maria Siddiqui Faiz Miroff Nick October 26 2024 Elon Musk enemy of open borders launched his career working illegally The Washington Post Retrieved October 26 2024 Maidment Paul March 15 2016 7 college dropouts who made millions CNBC Archived from the original on May 15 2020 Retrieved September 3 2020 Faiz Siddiqui Nick Miroff Elon Musk claims student visa permitted him to work in US The Washington Post Delevett Peter Hull Dana August 13 2012 Greg Kouri early investor in PayPal dies in New York The Mercury News Archived from the original on October 6 2022 Retrieved October 1 2022 Huddleston Tom Jr June 19 2018 How Elon Musk founded Zip2 with his brother Kimbal CNBC Archived from the original on November 9 2022 Retrieved October 1 2022 Chafkin Max December 1 2007 Entrepreneur of the Year 2007 Elon Musk Inc Archived from the original on December 28 2007 Retrieved February 22 2022 a b c Huddleston Tom Jr June 19 2018 Elonoriginal on December 28 2007 Retrieved February 22 2022 a b c Huddleston Tom Jr June 19 2018 Elon Musk slept on his office couch and showered at the YMCA while starting his first company CNBC Archived from the original on August 18 2020 Retrieved September 4 2020 Novak Matt April 1 2024 Watch Elon Musk Talk About Being an Illegal Immigrant in Video From 2013 Gizmodo Archived from the original on September 29 2024 Retrieved September 29 2024 Shoichet Catherine E September 29 2024 Elon Musk once described his past immigration status as a gray area CNN Archived from the original on September 29 2024 Retrieved September 29 2024 Kidder 2013 pp 224228 Vance 2017 p 67 Vance 2017 p 14 Junnarkar Sandeep February 16 1999 Compaq buys Zip2 CNET Archived from the original on October 21 2014 Retrieved December 13 2020 Vance 2017 p 109 a b Isaacson Walter 2023 Elon Musk by Walter Isaacson Simon Schuster p74 ISBN9781761422614 Vance 2017 p 78 Vance 2017 p 84 a b Vance 2017 p 86 Jackson 2004 pp 40 69p74 ISBN9781761422614 Vance 2017 p 78 Vance 2017 p 84 a b Vance 2017 p 86 Jackson 2004 pp 40 69 130 163 Vance 2017 pp 8586 Vance 2017 pp 8587 Vance 2017 pp 8788 The PayPal Mafia Fortune Archived from the original on May 23 2017 Retrieved July 4 2015 a b Vance 2017 p 89 Odell Mark September 30 2014 Timeline The rise of PayPal Financial Times Archived from the original on June 22 2020 Retrieved April 3 2020 SEC 10K PayPal December 31 2001 Archived from the original on August 25 2020 Vance 2017 pp 116 Huang Echo Elon Musk bought a web domain worth millions with sentimental value to him Quartz Archived from the original on June 25 2020 Retrieved April 3 2020 Statt Nick July 10 2017 Elon Musk now owns Xcom the defunct domain of his second startup The Verge Archived from the original on June 25 2020 Retrieved September 3 2020 Kleinman Zoe October 5 2022 Elon Musk Twitter and the mysterious X app BBC Archived from the original on October 21 2022 Retrieved\"\n"
     ]
    }
   ],
   "source": [
    "import json \n",
    "\n",
    "vector_res=vector_retriever.get_search_results(query_text='how is elon related to Jeff bezos', top_k=3)\n",
    "\n",
    "for i in vector_res.records:\n",
    "    print(\"====\\n\" + json.dumps(i.data()['node']['text'], indent=4))"
   ]
  },
  {
   "cell_type": "code",
   "execution_count": 36,
   "metadata": {},
   "outputs": [],
   "source": [
    "from neo4j_graphrag.retrievers import VectorCypherRetriever\n",
    "\n",
    "vc_retriever = VectorCypherRetriever(\n",
    "   neo4j_driver,\n",
    "   index_name=\"text_embeddings\",\n",
    "   embedder=embeddings,\n",
    "   retrieval_query=\"\"\"\n",
    "//1) Go out 2-3 hops in the entity graph and get relationships\n",
    "WITH node AS chunk\n",
    "MATCH (chunk)<-[:FROM_CHUNK]-()-[relList:!FROM_CHUNK]-{1,3}()\n",
    "UNWIND relList AS rel\n",
    "\n",
    "//2) collect relationships and text chunks\n",
    "WITH collect(DISTINCT chunk) AS chunks,\n",
    " collect(DISTINCT rel) AS rels\n",
    "\n",
    "//3) format and return context\n",
    "RETURN '=== text ===\\n' + apoc.text.join([c in chunks | c.text], '\\n---\\n') + '\\n\\n=== kg_rels ===\\n' +\n",
    " apoc.text.join([r in rels | startNode(r).name + ' - ' + type(r) + '(' + coalesce(r.details, '') + ')' +  ' -> ' + endNode(r).name ], '\\n---\\n') AS info\n",
    "\"\"\"\n",
    ")"
   ]
  },
  {
   "cell_type": "code",
   "execution_count": 37,
   "metadata": {},
   "outputs": [],
   "source": [
    "\n",
    "from neo4j_graphrag.generation import RagTemplate\n",
    "\n",
    "\n",
    "rag_template = RagTemplate(template='''Answer the Question using the following Context. Only respond with information mentioned in the Context. Do not inject any speculative information not mentioned.\n",
    "\n",
    "# Question:\n",
    "{query_text}\n",
    "\n",
    "# Context:\n",
    "{context}\n",
    "\n",
    "# Answer:\n",
    "''', expected_inputs=['query_text', 'context'])\n",
    "\n",
    "v_rag  = GraphRAG(llm=llm, retriever=vector_retriever, prompt_template=rag_template)\n",
    "vc_rag = GraphRAG(llm=llm, retriever=vc_retriever, prompt_template=rag_template)"
   ]
  },
  {
   "cell_type": "code",
   "execution_count": 38,
   "metadata": {},
   "outputs": [
    {
     "name": "stdout",
     "output_type": "stream",
     "text": [
      "Vector response: BBC News is a media entity where Bill Gates, the subject of the provided context, was a guest on the BBC Radio 4's program \"Desert Island Discs\" on January 31, 2016. During the program, Gates discussed his relationships, the start of Microsoft, and his personal habits, among other topics. Additionally, Bill Gates was the interviewee in an episode of the \"Amol Rajan Interviews\" series on BBC Two.\n"
     ]
    }
   ],
   "source": [
    "q='what is BBC news and how is it connected in the given network?'\n",
    "print(f\"Vector response: {v_rag.search(q,retriever_config={'top_k':10}).answer}\")"
   ]
  },
  {
   "cell_type": "code",
   "execution_count": 55,
   "metadata": {},
   "outputs": [
    {
     "name": "stdout",
     "output_type": "stream",
     "text": [
      "Vector response: Amazon founder Jeff Bezos surpassed Bill Gates as the richest person in the world in October 2017, according to the context provided.\n"
     ]
    }
   ],
   "source": [
    "q='how is amazon related to Jeff Bezos?'\n",
    "print(f\"Vector response: {vc_rag.search(q,retriever_config={'top_k':10}).answer}\")"
   ]
  },
  {
   "cell_type": "code",
   "execution_count": 56,
   "metadata": {},
   "outputs": [
    {
     "name": "stdout",
     "output_type": "stream",
     "text": [
      "Vector response: Jeff Bezos is related to Amazon as its CEO and has been recognized as the richest person in the world again, as mentioned by Forbes.\n"
     ]
    }
   ],
   "source": [
    "q='how is amazon related to Jeff Bezos? '\n",
    "print(f\"Vector response: {v_rag.search(q,retriever_config={'top_k':10}).answer}\")"
   ]
  },
  {
   "cell_type": "code",
   "execution_count": 41,
   "metadata": {},
   "outputs": [
    {
     "name": "stdout",
     "output_type": "stream",
     "text": [
      "Vector response: Elon Musk is related to Vladimir Putin in the context of reported communications and interactions concerning geopolitical issues. It was reported that Musk allegedly spoke with Putin before proposing a peace plan during the Russian invasion of Ukraine, a claim which Musk denied. Additionally, The Wall Street Journal and other sources reported that Musk had been in contact with Putin and other high-ranking Russian officials discussing personal, business, and geopolitical matters since late 2022. However, these reports have been partially denied by Kremlin stating that Musk and Putin had spoken only once.\n"
     ]
    }
   ],
   "source": [
    "q='how elon related to Valdimir Putin?'\n",
    "print(f\"Vector response: {v_rag.search(q,retriever_config={'top_k':10}).answer}\")"
   ]
  },
  {
   "cell_type": "code",
   "execution_count": 42,
   "metadata": {},
   "outputs": [
    {
     "name": "stdout",
     "output_type": "stream",
     "text": [
      "Vector response: Elon Musk is related to Vladimir Putin through various interactions and communications. In October 2022, Musk posted a Twitter poll and peace plan to resolve the Russian invasion of Ukraine, suggesting Crimea remain with Russia and Ukraine remain neutral. This proposal followed alleged discussions with Putin, which Musk denied. Reports later emerged that Musk had been in regular contact with Putin and other high-ranking Russian officials since late 2022, discussing personal, business, and geopolitical matters. However, these communications were closely held secrets within the government, given Musk's influence and technological involvement.\n"
     ]
    }
   ],
   "source": [
    "q='how elon related to Valdimir Putin?'\n",
    "print(f\"Vector response: {vc_rag.search(q,retriever_config={'top_k':10}).answer}\")"
   ]
  },
  {
   "cell_type": "code",
   "execution_count": 43,
   "metadata": {},
   "outputs": [
    {
     "name": "stdout",
     "output_type": "stream",
     "text": [
      "Vector response: The provided context does not mention CNBC or its relationship to any network. There is no information available in the provided context to answer the question about how CNBC is related in a network.\n"
     ]
    }
   ],
   "source": [
    "q='how is CNBC related in this network? give a detailed response'\n",
    "print(f\"Vector response: {vc_rag.search(q,retriever_config={'top_k':10}).answer}\")"
   ]
  },
  {
   "cell_type": "code",
   "execution_count": 45,
   "metadata": {},
   "outputs": [
    {
     "name": "stdout",
     "output_type": "stream",
     "text": [
      "Vector response: CNBC reported on Elon Musk's endorsement of a carbon tax and his downplaying of concerns about methane, contributing to the public discourse on environmental policies and Musk’s views on these issues.\n"
     ]
    }
   ],
   "source": [
    "q='how is CNBC play a role in the given context'\n",
    "print(f\"Vector response: {vc_rag.search(q,retriever_config={'top_k':10}).answer}\")"
   ]
  },
  {
   "cell_type": "code",
   "execution_count": 47,
   "metadata": {},
   "outputs": [
    {
     "name": "stdout",
     "output_type": "stream",
     "text": [
      "Vector response: Sam Altman is mentioned as a person related to artificial intelligence concepts and ethics, involved in organizations like OpenAI, which focuses on AI research.\n"
     ]
    }
   ],
   "source": [
    "q='who is sam altman'\n",
    "print(f\"Vector response: {vc_rag.search(q,retriever_config={'top_k':10}).answer}\")"
   ]
  },
  {
   "cell_type": "code",
   "execution_count": 48,
   "metadata": {},
   "outputs": [
    {
     "name": "stdout",
     "output_type": "stream",
     "text": [
      "Vector response: The Musk Foundation, founded in 2001 by Elon Musk, is focused on renewable energy and supporting various charitable causes. The foundation's stated purpose includes providing solar-power energy systems in disaster areas, supporting research, development, and advocacy for interests such as human space exploration, pediatrics, renewable energy, safe artificial intelligence, and science and engineering educational efforts. Notable actions by the foundation include making 350 donations, many to scientific research or education nonprofits, including significant contributions to the Wikimedia Foundation, the University of Pennsylvania, and Musk's brother Kimbal’s nonprofit, Big Green.\n"
     ]
    }
   ],
   "source": [
    "q='what is musk foundation'\n",
    "print(f\"Vector response: {vc_rag.search(q,retriever_config={'top_k':10}).answer}\")"
   ]
  },
  {
   "cell_type": "code",
   "execution_count": null,
   "metadata": {},
   "outputs": [],
   "source": []
  }
 ],
 "metadata": {
  "kernelspec": {
   "display_name": "graphrag",
   "language": "python",
   "name": "python3"
  },
  "language_info": {
   "codemirror_mode": {
    "name": "ipython",
    "version": 3
   },
   "file_extension": ".py",
   "mimetype": "text/x-python",
   "name": "python",
   "nbconvert_exporter": "python",
   "pygments_lexer": "ipython3",
   "version": "3.10.0"
  }
 },
 "nbformat": 4,
 "nbformat_minor": 2
}

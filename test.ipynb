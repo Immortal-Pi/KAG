{
 "cells": [
  {
   "cell_type": "code",
   "execution_count": 7,
   "id": "2686eafa",
   "metadata": {},
   "outputs": [],
   "source": [
    "import os \n",
    "import neo4j_graphrag \n",
    "import graphrag"
   ]
  },
  {
   "cell_type": "code",
   "execution_count": 6,
   "id": "500b0036",
   "metadata": {},
   "outputs": [
    {
     "ename": "AttributeError",
     "evalue": "'int' object has no attribute 'stdout'",
     "output_type": "error",
     "traceback": [
      "\u001b[1;31m---------------------------------------------------------------------------\u001b[0m",
      "\u001b[1;31mAttributeError\u001b[0m                            Traceback (most recent call last)",
      "Cell \u001b[1;32mIn[6], line 2\u001b[0m\n\u001b[0;32m      1\u001b[0m result\u001b[38;5;241m=\u001b[39mos\u001b[38;5;241m.\u001b[39msystem(\u001b[38;5;124m'\u001b[39m\u001b[38;5;124mpython -m graphrag query --root . --method global --query \u001b[39m\u001b[38;5;124m\"\u001b[39m\u001b[38;5;124mwho is bill gates?\u001b[39m\u001b[38;5;124m\"\u001b[39m\u001b[38;5;124m \u001b[39m\u001b[38;5;124m'\u001b[39m)\n\u001b[1;32m----> 2\u001b[0m \u001b[43mresult\u001b[49m\u001b[38;5;241;43m.\u001b[39;49m\u001b[43mstdout\u001b[49m\n",
      "\u001b[1;31mAttributeError\u001b[0m: 'int' object has no attribute 'stdout'"
     ]
    }
   ],
   "source": [
    "result=os.system('python -m graphrag query --root . --method global --query \"who is bill gates?\" ')\n",
    "result.stdout"
   ]
  },
  {
   "cell_type": "code",
   "execution_count": 8,
   "id": "2dcab83b",
   "metadata": {},
   "outputs": [
    {
     "data": {
      "text/plain": [
       "'1.6.1'"
      ]
     },
     "execution_count": 8,
     "metadata": {},
     "output_type": "execute_result"
    }
   ],
   "source": [
    "neo4j_graphrag.__version__"
   ]
  },
  {
   "cell_type": "code",
   "execution_count": 9,
   "id": "0dfc96e6",
   "metadata": {},
   "outputs": [
    {
     "ename": "AttributeError",
     "evalue": "module 'graphrag' has no attribute '__version__'",
     "output_type": "error",
     "traceback": [
      "\u001b[1;31m---------------------------------------------------------------------------\u001b[0m",
      "\u001b[1;31mAttributeError\u001b[0m                            Traceback (most recent call last)",
      "Cell \u001b[1;32mIn[9], line 1\u001b[0m\n\u001b[1;32m----> 1\u001b[0m \u001b[43mgraphrag\u001b[49m\u001b[38;5;241;43m.\u001b[39;49m\u001b[43m__version__\u001b[49m\n",
      "\u001b[1;31mAttributeError\u001b[0m: module 'graphrag' has no attribute '__version__'"
     ]
    }
   ],
   "source": [
    "graphrag.__version__"
   ]
  },
  {
   "cell_type": "code",
   "execution_count": null,
   "id": "9e72bc70",
   "metadata": {},
   "outputs": [],
   "source": []
  }
 ],
 "metadata": {
  "kernelspec": {
   "display_name": "Python 3",
   "language": "python",
   "name": "python3"
  },
  "language_info": {
   "codemirror_mode": {
    "name": "ipython",
    "version": 3
   },
   "file_extension": ".py",
   "mimetype": "text/x-python",
   "name": "python",
   "nbconvert_exporter": "python",
   "pygments_lexer": "ipython3",
   "version": "3.10.16"
  }
 },
 "nbformat": 4,
 "nbformat_minor": 5
}
